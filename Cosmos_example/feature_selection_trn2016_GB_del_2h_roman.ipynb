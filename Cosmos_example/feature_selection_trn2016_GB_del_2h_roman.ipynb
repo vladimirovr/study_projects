{
 "cells": [
  {
   "cell_type": "markdown",
   "metadata": {},
   "source": [
    "### Deleting best col"
   ]
  },
  {
   "cell_type": "code",
   "execution_count": 5,
   "metadata": {},
   "outputs": [
    {
     "name": "stderr",
     "output_type": "stream",
     "text": [
      "/home/roman/my_env/lib/python3.8/site-packages/xgboost/compat.py:31: FutureWarning: pandas.Int64Index is deprecated and will be removed from pandas in a future version. Use pandas.Index with the appropriate dtype instead.\n",
      "  from pandas import MultiIndex, Int64Index\n"
     ]
    },
    {
     "name": "stdout",
     "output_type": "stream",
     "text": [
      "time: 146 µs (started: 2022-02-27 15:07:37 +03:00)\n"
     ]
    }
   ],
   "source": [
    "import xgboost as xgb\n",
    "\n",
    "import pandas as pd\n",
    "import numpy as np\n",
    "from sklearn.preprocessing import StandardScaler, MinMaxScaler\n",
    "\n",
    "from sklearn.linear_model import LinearRegression, SGDRegressor, Ridge\n",
    "from sklearn.ensemble import VotingRegressor, GradientBoostingRegressor, RandomForestRegressor\n",
    "from sklearn.neural_network import MLPRegressor\n",
    "\n",
    "import sklearn\n",
    "import copy\n",
    "from tqdm.notebook import tqdm\n",
    "from collections import ChainMap\n",
    "\n",
    "\n",
    "from sklearn.metrics import mean_absolute_error\n",
    "from sklearn.metrics import mean_squared_error\n",
    "from sklearn.metrics import r2_score\n",
    "\n",
    "import time\n",
    "import dask\n",
    "# from dask.distributed import Client\n",
    "# from dask_ml.wrappers import Incremental\n",
    "import joblib\n",
    "import os\n",
    "from pathlib import Path\n",
    "\n",
    "\n",
    "import matplotlib.pyplot as plt\n",
    "%matplotlib inline\n",
    "%load_ext autotime"
   ]
  },
  {
   "cell_type": "code",
   "execution_count": 6,
   "metadata": {},
   "outputs": [
    {
     "name": "stdout",
     "output_type": "stream",
     "text": [
      "time: 111 ms (started: 2022-02-27 15:07:37 +03:00)\n"
     ]
    }
   ],
   "source": [
    "!ls /data_ny/"
   ]
  },
  {
   "cell_type": "code",
   "execution_count": 7,
   "metadata": {},
   "outputs": [
    {
     "name": "stdout",
     "output_type": "stream",
     "text": [
      "time: 374 µs (started: 2022-02-27 15:07:37 +03:00)\n"
     ]
    }
   ],
   "source": [
    "fc_hours = 2\n",
    "fc_colname = f'Dst_+{fc_hours}'"
   ]
  },
  {
   "cell_type": "code",
   "execution_count": 8,
   "metadata": {},
   "outputs": [
    {
     "name": "stdout",
     "output_type": "stream",
     "text": [
      "time: 1.96 ms (started: 2022-02-27 15:07:38 +03:00)\n"
     ]
    }
   ],
   "source": [
    "def time_immersion(data, immersion_dict, deep_level, deep_level_forward, fc_levels):\n",
    "    \"\"\"\n",
    "    :param data: pandas DataFrame with source data\n",
    "    :param immersion_dict: dict with keys - cols_static, cols_deep, cols_deep_forward, cols_fc - each is a list with colnames from source DataFrame\n",
    "    :param deep_level: how deep is time immersion for cols in immersion_dict['cols_deep']\n",
    "    :param deep_level_forward: how deep is time immersion for cols in immersion_dict['cols_deep_forward']\n",
    "    :param fc_levels: list of ints to make forecast cols\n",
    "    :return: immersioned pandas DataFrame\n",
    "    \"\"\"\n",
    "    a = []\n",
    "    for colname in immersion_dict['cols_static']:\n",
    "        a.append(data[colname])\n",
    "    for deep_cnt in range(deep_level):\n",
    "        for colname in immersion_dict['cols_deep']:\n",
    "            a.append(data[colname].shift(deep_cnt).rename(f'{colname}_-{deep_cnt}'))\n",
    "#     for deep_cnt in range(deep_level_forward):\n",
    "#         for colname in immersion_dict['cols_deep_forward']:\n",
    "#             a.append(data[colname].shift(-deep_cnt).rename(f'{colname}_+{deep_cnt}'))\n",
    "    for deep_cnt in fc_levels:\n",
    "        for colname in immersion_dict['cols_fc']:\n",
    "            a.append(data[colname].shift(-deep_cnt).rename(f'{colname}_+{deep_cnt}'))\n",
    "    return pd.concat(a, axis=1)\n",
    "\n",
    "\n",
    "def trn_tst_scal(data, X_list, y_list, trn_cond, in_scaler, out_scaler):\n",
    "    \"\"\"\n",
    "\n",
    "    :param data: source pandas DataFrame\n",
    "    :param X_list: list of names of X columns\n",
    "    :param y_list: list of names of y columns\n",
    "    :param trn_cond: boolean pandas Series or list of boolean values of the same shape as data.shape[0]\n",
    "    :param in_scaler: scaler object for inputs\n",
    "    :param out_scaler: scaler object for outputs\n",
    "    :return:\n",
    "        X_trn_std - dataframe of normalized x values of train set\n",
    "        y_trn_std - dataframe of normalized y values of train set\n",
    "        X_tst_std - dataframe of normalized x values of test set\n",
    "        y_tst_std - dataframe of normalized y values of test set\n",
    "        x_scaler - in_scaler trained on x data of train set\n",
    "        y_scaler - out_scaler trained on y data of train set\n",
    "    \"\"\"\n",
    "    X = data[X_list]\n",
    "    y = data[y_list]\n",
    "    X_trn = X[trn_cond]\n",
    "    X_tst = X[~trn_cond]\n",
    "    y_trn = y[trn_cond]\n",
    "    y_tst = y[~trn_cond]\n",
    "\n",
    "    in_scaler.fit(X_trn)\n",
    "\n",
    "    X_trn_std = pd.DataFrame(in_scaler.transform(X_trn), index=X_trn.index)\n",
    "    X_tst_std = pd.DataFrame(in_scaler.transform(X_tst), index=X_tst.index)\n",
    "\n",
    "    X_trn_std.columns = X_trn.columns\n",
    "    X_tst_std.columns = X_tst.columns\n",
    "\n",
    "    out_scaler.fit(y_trn)\n",
    "\n",
    "    y_trn_std = pd.DataFrame(out_scaler.transform(y_trn), index=y_trn.index)\n",
    "    y_tst_std = pd.DataFrame(out_scaler.transform(y_tst), index=y_tst.index)\n",
    "\n",
    "    y_trn_std.columns = y_trn.columns\n",
    "    y_tst_std.columns = y_tst.columns\n",
    "\n",
    "    return X_trn_std, y_trn_std, X_tst_std, y_tst_std, in_scaler, out_scaler\n"
   ]
  },
  {
   "cell_type": "code",
   "execution_count": 9,
   "metadata": {},
   "outputs": [
    {
     "name": "stdout",
     "output_type": "stream",
     "text": [
      "time: 2.09 ms (started: 2022-02-27 15:07:39 +03:00)\n"
     ]
    }
   ],
   "source": [
    "import unicodedata\n",
    "import string\n",
    "valid_filename_chars = \"-_.() %s%s\" % (string.ascii_letters, string.digits)\n",
    "char_limit = 255\n",
    "def clean_filename(filename, whitelist=valid_filename_chars, replace=' '):\n",
    "    # replace spaces\n",
    "    for r in replace:\n",
    "        filename = filename.replace(r,'_')\n",
    "    \n",
    "    # keep only valid ascii chars\n",
    "    cleaned_filename = unicodedata.normalize('NFKD', filename).encode('ASCII', 'ignore').decode()\n",
    "    \n",
    "    # keep only whitelisted chars\n",
    "    cleaned_filename = ''.join(c for c in cleaned_filename if c in whitelist)\n",
    "    if len(cleaned_filename)>char_limit:\n",
    "        print(\"Warning, filename truncated because it was over {}. Filenames may no longer be unique\".format(char_limit))\n",
    "    return cleaned_filename[:char_limit]    "
   ]
  },
  {
   "cell_type": "code",
   "execution_count": 10,
   "metadata": {},
   "outputs": [
    {
     "name": "stdout",
     "output_type": "stream",
     "text": [
      "time: 49.6 ms (started: 2022-02-27 15:09:12 +03:00)\n"
     ]
    }
   ],
   "source": [
    "data_new = pd.read_pickle('/home/roman/Projects/Cosmos/GPU_features_selection_exps/All_browse_data_без_погружения_19971021_20211231_интерполяция12.pickle')"
   ]
  },
  {
   "cell_type": "code",
   "execution_count": 11,
   "metadata": {},
   "outputs": [
    {
     "name": "stdout",
     "output_type": "stream",
     "text": [
      "time: 433 µs (started: 2022-02-27 15:09:12 +03:00)\n"
     ]
    }
   ],
   "source": [
    "base_immersion_dict = {\n",
    "    \n",
    "'cols_info' : ['year', 'month', 'day', 'hour from', 'hour to'],\n",
    "'cols_static' : ['doySin', 'hourSin', 'doyCos', 'hourCos'],\n",
    "'cols_deep' : [\n",
    "    'Dst',\n",
    "    'B_gsm_y',\n",
    "    'B_gsm_z', \n",
    "    'B_magn', \n",
    "    'SW_spd',\n",
    "    'H_den_SWP'],\n",
    "'cols_deep_forward' : [\n",
    "],\n",
    "'cols_fc' : ['Dst']\n",
    "}"
   ]
  },
  {
   "cell_type": "code",
   "execution_count": 12,
   "metadata": {},
   "outputs": [
    {
     "data": {
      "text/plain": [
       "(212328, 154)"
      ]
     },
     "execution_count": 12,
     "metadata": {},
     "output_type": "execute_result"
    },
    {
     "name": "stdout",
     "output_type": "stream",
     "text": [
      "time: 332 ms (started: 2022-02-27 15:09:13 +03:00)\n"
     ]
    }
   ],
   "source": [
    "deep_level = 24\n",
    "horizons = [1,2,3,4,5,6]\n",
    "train_last_year = 2016\n",
    "\n",
    "time_immersion(data_new, base_immersion_dict, deep_level, 0, horizons).shape"
   ]
  },
  {
   "cell_type": "code",
   "execution_count": 13,
   "metadata": {},
   "outputs": [
    {
     "data": {
      "text/plain": [
       "(210454, 154)"
      ]
     },
     "execution_count": 13,
     "metadata": {},
     "output_type": "execute_result"
    },
    {
     "name": "stdout",
     "output_type": "stream",
     "text": [
      "time: 397 ms (started: 2022-02-27 15:09:14 +03:00)\n"
     ]
    }
   ],
   "source": [
    "data_transformed = time_immersion(data_new, base_immersion_dict, deep_level, 0, horizons).dropna()\n",
    "data_transformed.shape"
   ]
  },
  {
   "cell_type": "code",
   "execution_count": 14,
   "metadata": {},
   "outputs": [
    {
     "name": "stdout",
     "output_type": "stream",
     "text": [
      "time: 213 µs (started: 2022-02-27 15:09:17 +03:00)\n"
     ]
    }
   ],
   "source": [
    "# data_transformed = data_transformed.sample(100).copy()"
   ]
  },
  {
   "cell_type": "code",
   "execution_count": 15,
   "metadata": {},
   "outputs": [
    {
     "name": "stdout",
     "output_type": "stream",
     "text": [
      "time: 77.2 ms (started: 2022-02-27 15:09:17 +03:00)\n"
     ]
    }
   ],
   "source": [
    "trn_cond = data_transformed.index.year<=train_last_year\n",
    "\n",
    "X = data_transformed[data_transformed.columns[:-6]]\n",
    "y = data_transformed[data_transformed.columns[-6:]]\n",
    "\n",
    "in_scaler = MinMaxScaler(feature_range=(-1,1))\n",
    "out_scaler = MinMaxScaler(feature_range=(-1,1))"
   ]
  },
  {
   "cell_type": "code",
   "execution_count": 16,
   "metadata": {},
   "outputs": [
    {
     "name": "stdout",
     "output_type": "stream",
     "text": [
      "time: 391 ms (started: 2022-02-27 15:09:19 +03:00)\n"
     ]
    }
   ],
   "source": [
    "X_trn_std, y_trn_std, X_tst_std, y_tst_std, in_, out_= trn_tst_scal(data_transformed, X.columns, [fc_colname], trn_cond, in_scaler, out_scaler)"
   ]
  },
  {
   "cell_type": "code",
   "execution_count": null,
   "metadata": {},
   "outputs": [],
   "source": []
  },
  {
   "cell_type": "code",
   "execution_count": 18,
   "metadata": {},
   "outputs": [
    {
     "name": "stdout",
     "output_type": "stream",
     "text": [
      "time: 3.23 ms (started: 2022-02-27 15:09:22 +03:00)\n"
     ]
    }
   ],
   "source": [
    "# @dask.delayed\n",
    "def fitter(est, x_tr, y_tr, x_ts, y_ts, col, iter_num):\n",
    "    x_tr_new = x_tr.drop(col, axis=1)\n",
    "    x_ts_new = x_ts.drop(col, axis=1)\n",
    "    \n",
    "    rmse = []\n",
    "    for i in range(5):\n",
    "        model_filename = clean_filename(f'iter_{iter_num}_{col}_dropped_model_{i}.joblib')    \n",
    "        model_filepath = os.path.join(experiment_dir, model_filename)\n",
    "        \n",
    "        rmse_filename = clean_filename(f'iter_{iter_num}_{col}_dropped_model_{i}_rmse_tst.txt')\n",
    "        rmse_filepath = os.path.join(experiment_dir, rmse_filename)\n",
    "#         print(rmse_filepath)\n",
    "        if os.path.isfile(rmse_filepath):\n",
    "            with open(rmse_filepath, 'r') as f:\n",
    "                rmse_tst_curr = float(f.read())\n",
    "        else:\n",
    "            if os.path.isfile(model_filepath):\n",
    "                model = joblib.load(model_filepath)\n",
    "            else:\n",
    "                model = est\n",
    "                model.random_state = i\n",
    "                a = time.perf_counter()\n",
    "                model.fit(x_tr_new, y_tr)\n",
    "#                 print(time.perf_counter()-a, 'seconds fitted')\n",
    "                joblib.dump(model, model_filepath)\n",
    "            rmse_tst_curr = np.sqrt(\n",
    "                mean_squared_error(\n",
    "                    out_scaler.inverse_transform(y_ts), \\\n",
    "                    out_scaler.inverse_transform(model.predict(x_ts_new).reshape(-1,1))\n",
    "                )\n",
    "            )\n",
    "            with open(rmse_filepath, 'w') as f:\n",
    "                f.write(str(rmse_tst_curr))\n",
    "        rmse.append(rmse_tst_curr)\n",
    "        \n",
    "    return {col: rmse}"
   ]
  },
  {
   "cell_type": "code",
   "execution_count": 19,
   "metadata": {},
   "outputs": [
    {
     "name": "stdout",
     "output_type": "stream",
     "text": [
      "time: 713 µs (started: 2022-02-27 15:09:23 +03:00)\n"
     ]
    }
   ],
   "source": [
    "def feature_estimator(estimator, x_trn, y_trn, x_tst, y_tst, iter_num):\n",
    "    output = []\n",
    "    rmse = []\n",
    "  \n",
    "    for column in cols_for_check:\n",
    "        output.append(fitter(sklearn.base.clone(estimator), x_trn, y_trn, x_tst, y_tst, column, iter_num))        \n",
    "    result = dask.delayed(list)(output).compute()\n",
    "    \n",
    "    return result"
   ]
  },
  {
   "cell_type": "code",
   "execution_count": 17,
   "metadata": {
    "scrolled": true
   },
   "outputs": [
    {
     "name": "stdout",
     "output_type": "stream",
     "text": [
      "time: 732 µs (started: 2022-02-27 01:55:30 +03:00)\n"
     ]
    }
   ],
   "source": [
    "# !ls /home/roman/Projects/Cosmos/feature_selection_trn2016_classic_linreg_del_2h/*"
   ]
  },
  {
   "cell_type": "code",
   "execution_count": 20,
   "metadata": {},
   "outputs": [
    {
     "name": "stdout",
     "output_type": "stream",
     "text": [
      "time: 1.23 ms (started: 2022-02-27 15:09:24 +03:00)\n"
     ]
    }
   ],
   "source": [
    "experiment_dir = f'/home/roman/Projects/Cosmos/GPU_features_selection_exps/feature_selection_trn2016_GB_del_{fc_hours}h/'\n",
    "# results_filename = 'results.csv'\n",
    "# results_filepath = os.path.join(experiment_dir, results_filename)\n",
    "\n",
    "# создаем папку эксперимента. в нее все будет сохраняться\n",
    "Path(experiment_dir).mkdir(parents=True, exist_ok=True)"
   ]
  },
  {
   "cell_type": "code",
   "execution_count": 20,
   "metadata": {
    "scrolled": true
   },
   "outputs": [
    {
     "name": "stderr",
     "output_type": "stream",
     "text": [
      "/home/roman/my_env/lib/python3.8/site-packages/xgboost/core.py:430: FutureWarning: Pass `objective` as keyword args.  Passing these as positional arguments will be considered as error in future releases.\n",
      "  warnings.warn(\n"
     ]
    },
    {
     "data": {
      "application/vnd.jupyter.widget-view+json": {
       "model_id": "db88fd588e6d4a70b0dece87aae3c4e1",
       "version_major": 2,
       "version_minor": 0
      },
      "text/plain": [
       "main_iter:   0%|          | 0/144 [00:00<?, ?it/s]"
      ]
     },
     "metadata": {},
     "output_type": "display_data"
    },
    {
     "data": {
      "application/vnd.jupyter.widget-view+json": {
       "model_id": "63d08be2aa194853996afc94b5991cb0",
       "version_major": 2,
       "version_minor": 0
      },
      "text/plain": [
       "sub_iter:   0%|          | 0/15 [00:00<?, ?it/s]"
      ]
     },
     "metadata": {},
     "output_type": "display_data"
    },
    {
     "name": "stderr",
     "output_type": "stream",
     "text": [
      "/home/roman/my_env/lib/python3.8/site-packages/xgboost/data.py:208: FutureWarning: pandas.Int64Index is deprecated and will be removed from pandas in a future version. Use pandas.Index with the appropriate dtype instead.\n",
      "  from pandas import MultiIndex, Int64Index\n"
     ]
    },
    {
     "ename": "KeyboardInterrupt",
     "evalue": "",
     "output_type": "error",
     "traceback": [
      "\u001b[0;31m---------------------------------------------------------------------------\u001b[0m",
      "\u001b[0;31mKeyboardInterrupt\u001b[0m                         Traceback (most recent call last)",
      "\u001b[0;32m/tmp/ipykernel_4156/4051318285.py\u001b[0m in \u001b[0;36m<module>\u001b[0;34m\u001b[0m\n\u001b[1;32m     17\u001b[0m         \u001b[0;32mif\u001b[0m \u001b[0mlen\u001b[0m\u001b[0;34m(\u001b[0m\u001b[0mlst\u001b[0m\u001b[0;34m)\u001b[0m \u001b[0;34m>=\u001b[0m \u001b[0mi\u001b[0m\u001b[0;34m:\u001b[0m\u001b[0;34m\u001b[0m\u001b[0;34m\u001b[0m\u001b[0m\n\u001b[1;32m     18\u001b[0m             \u001b[0mcols_for_check\u001b[0m \u001b[0;34m=\u001b[0m \u001b[0mlst\u001b[0m\u001b[0;34m[\u001b[0m\u001b[0mi\u001b[0m\u001b[0;34m:\u001b[0m\u001b[0mi\u001b[0m\u001b[0;34m+\u001b[0m\u001b[0;36m10\u001b[0m\u001b[0;34m]\u001b[0m\u001b[0;34m\u001b[0m\u001b[0;34m\u001b[0m\u001b[0m\n\u001b[0;32m---> 19\u001b[0;31m             \u001b[0mfull_res\u001b[0m\u001b[0;34m.\u001b[0m\u001b[0mextend\u001b[0m\u001b[0;34m(\u001b[0m\u001b[0mfeature_estimator\u001b[0m\u001b[0;34m(\u001b[0m\u001b[0mregressor\u001b[0m\u001b[0;34m,\u001b[0m \u001b[0mX_trn_std\u001b[0m\u001b[0;34m,\u001b[0m \u001b[0my_trn_std\u001b[0m\u001b[0;34m,\u001b[0m \u001b[0mX_tst_std\u001b[0m\u001b[0;34m,\u001b[0m \u001b[0my_tst_std\u001b[0m\u001b[0;34m,\u001b[0m \u001b[0mn\u001b[0m\u001b[0;34m)\u001b[0m\u001b[0;34m)\u001b[0m\u001b[0;34m\u001b[0m\u001b[0;34m\u001b[0m\u001b[0m\n\u001b[0m\u001b[1;32m     20\u001b[0m \u001b[0;34m\u001b[0m\u001b[0m\n\u001b[1;32m     21\u001b[0m     \u001b[0mcolonki_2\u001b[0m\u001b[0;34m[\u001b[0m\u001b[0mn\u001b[0m\u001b[0;34m]\u001b[0m \u001b[0;34m=\u001b[0m \u001b[0mpd\u001b[0m\u001b[0;34m.\u001b[0m\u001b[0mSeries\u001b[0m\u001b[0;34m(\u001b[0m\u001b[0mdict\u001b[0m\u001b[0;34m(\u001b[0m\u001b[0mChainMap\u001b[0m\u001b[0;34m(\u001b[0m\u001b[0;34m*\u001b[0m\u001b[0mfull_res\u001b[0m\u001b[0;34m)\u001b[0m\u001b[0;34m)\u001b[0m\u001b[0;34m)\u001b[0m\u001b[0;34m\u001b[0m\u001b[0;34m\u001b[0m\u001b[0m\n",
      "\u001b[0;32m/tmp/ipykernel_4156/2500698479.py\u001b[0m in \u001b[0;36mfeature_estimator\u001b[0;34m(estimator, x_trn, y_trn, x_tst, y_tst, iter_num)\u001b[0m\n\u001b[1;32m      4\u001b[0m \u001b[0;34m\u001b[0m\u001b[0m\n\u001b[1;32m      5\u001b[0m     \u001b[0;32mfor\u001b[0m \u001b[0mcolumn\u001b[0m \u001b[0;32min\u001b[0m \u001b[0mcols_for_check\u001b[0m\u001b[0;34m:\u001b[0m\u001b[0;34m\u001b[0m\u001b[0;34m\u001b[0m\u001b[0m\n\u001b[0;32m----> 6\u001b[0;31m         \u001b[0moutput\u001b[0m\u001b[0;34m.\u001b[0m\u001b[0mappend\u001b[0m\u001b[0;34m(\u001b[0m\u001b[0mfitter\u001b[0m\u001b[0;34m(\u001b[0m\u001b[0msklearn\u001b[0m\u001b[0;34m.\u001b[0m\u001b[0mbase\u001b[0m\u001b[0;34m.\u001b[0m\u001b[0mclone\u001b[0m\u001b[0;34m(\u001b[0m\u001b[0mestimator\u001b[0m\u001b[0;34m)\u001b[0m\u001b[0;34m,\u001b[0m \u001b[0mx_trn\u001b[0m\u001b[0;34m,\u001b[0m \u001b[0my_trn\u001b[0m\u001b[0;34m,\u001b[0m \u001b[0mx_tst\u001b[0m\u001b[0;34m,\u001b[0m \u001b[0my_tst\u001b[0m\u001b[0;34m,\u001b[0m \u001b[0mcolumn\u001b[0m\u001b[0;34m,\u001b[0m \u001b[0miter_num\u001b[0m\u001b[0;34m)\u001b[0m\u001b[0;34m)\u001b[0m\u001b[0;34m\u001b[0m\u001b[0;34m\u001b[0m\u001b[0m\n\u001b[0m\u001b[1;32m      7\u001b[0m     \u001b[0mresult\u001b[0m \u001b[0;34m=\u001b[0m \u001b[0mdask\u001b[0m\u001b[0;34m.\u001b[0m\u001b[0mdelayed\u001b[0m\u001b[0;34m(\u001b[0m\u001b[0mlist\u001b[0m\u001b[0;34m)\u001b[0m\u001b[0;34m(\u001b[0m\u001b[0moutput\u001b[0m\u001b[0;34m)\u001b[0m\u001b[0;34m.\u001b[0m\u001b[0mcompute\u001b[0m\u001b[0;34m(\u001b[0m\u001b[0;34m)\u001b[0m\u001b[0;34m\u001b[0m\u001b[0;34m\u001b[0m\u001b[0m\n\u001b[1;32m      8\u001b[0m \u001b[0;34m\u001b[0m\u001b[0m\n",
      "\u001b[0;32m/tmp/ipykernel_4156/3277049566.py\u001b[0m in \u001b[0;36mfitter\u001b[0;34m(est, x_tr, y_tr, x_ts, y_ts, col, iter_num)\u001b[0m\n\u001b[1;32m     22\u001b[0m                 \u001b[0mmodel\u001b[0m\u001b[0;34m.\u001b[0m\u001b[0mrandom_state\u001b[0m \u001b[0;34m=\u001b[0m \u001b[0mi\u001b[0m\u001b[0;34m\u001b[0m\u001b[0;34m\u001b[0m\u001b[0m\n\u001b[1;32m     23\u001b[0m                 \u001b[0ma\u001b[0m \u001b[0;34m=\u001b[0m \u001b[0mtime\u001b[0m\u001b[0;34m.\u001b[0m\u001b[0mperf_counter\u001b[0m\u001b[0;34m(\u001b[0m\u001b[0;34m)\u001b[0m\u001b[0;34m\u001b[0m\u001b[0;34m\u001b[0m\u001b[0m\n\u001b[0;32m---> 24\u001b[0;31m                 \u001b[0mmodel\u001b[0m\u001b[0;34m.\u001b[0m\u001b[0mfit\u001b[0m\u001b[0;34m(\u001b[0m\u001b[0mx_tr_new\u001b[0m\u001b[0;34m,\u001b[0m \u001b[0my_tr\u001b[0m\u001b[0;34m)\u001b[0m\u001b[0;34m\u001b[0m\u001b[0;34m\u001b[0m\u001b[0m\n\u001b[0m\u001b[1;32m     25\u001b[0m \u001b[0;31m#                 print(time.perf_counter()-a, 'seconds fitted')\u001b[0m\u001b[0;34m\u001b[0m\u001b[0;34m\u001b[0m\u001b[0;34m\u001b[0m\u001b[0m\n\u001b[1;32m     26\u001b[0m                 \u001b[0mjoblib\u001b[0m\u001b[0;34m.\u001b[0m\u001b[0mdump\u001b[0m\u001b[0;34m(\u001b[0m\u001b[0mmodel\u001b[0m\u001b[0;34m,\u001b[0m \u001b[0mmodel_filepath\u001b[0m\u001b[0;34m)\u001b[0m\u001b[0;34m\u001b[0m\u001b[0;34m\u001b[0m\u001b[0m\n",
      "\u001b[0;32m~/my_env/lib/python3.8/site-packages/xgboost/core.py\u001b[0m in \u001b[0;36minner_f\u001b[0;34m(*args, **kwargs)\u001b[0m\n\u001b[1;32m    434\u001b[0m         \u001b[0;32mfor\u001b[0m \u001b[0mk\u001b[0m\u001b[0;34m,\u001b[0m \u001b[0marg\u001b[0m \u001b[0;32min\u001b[0m \u001b[0mzip\u001b[0m\u001b[0;34m(\u001b[0m\u001b[0msig\u001b[0m\u001b[0;34m.\u001b[0m\u001b[0mparameters\u001b[0m\u001b[0;34m,\u001b[0m \u001b[0margs\u001b[0m\u001b[0;34m)\u001b[0m\u001b[0;34m:\u001b[0m\u001b[0;34m\u001b[0m\u001b[0;34m\u001b[0m\u001b[0m\n\u001b[1;32m    435\u001b[0m             \u001b[0mkwargs\u001b[0m\u001b[0;34m[\u001b[0m\u001b[0mk\u001b[0m\u001b[0;34m]\u001b[0m \u001b[0;34m=\u001b[0m \u001b[0marg\u001b[0m\u001b[0;34m\u001b[0m\u001b[0;34m\u001b[0m\u001b[0m\n\u001b[0;32m--> 436\u001b[0;31m         \u001b[0;32mreturn\u001b[0m \u001b[0mf\u001b[0m\u001b[0;34m(\u001b[0m\u001b[0;34m**\u001b[0m\u001b[0mkwargs\u001b[0m\u001b[0;34m)\u001b[0m\u001b[0;34m\u001b[0m\u001b[0;34m\u001b[0m\u001b[0m\n\u001b[0m\u001b[1;32m    437\u001b[0m \u001b[0;34m\u001b[0m\u001b[0m\n\u001b[1;32m    438\u001b[0m     \u001b[0;32mreturn\u001b[0m \u001b[0minner_f\u001b[0m\u001b[0;34m\u001b[0m\u001b[0;34m\u001b[0m\u001b[0m\n",
      "\u001b[0;32m~/my_env/lib/python3.8/site-packages/xgboost/sklearn.py\u001b[0m in \u001b[0;36mfit\u001b[0;34m(self, X, y, sample_weight, base_margin, eval_set, eval_metric, early_stopping_rounds, verbose, xgb_model, sample_weight_eval_set, base_margin_eval_set, feature_weights, callbacks)\u001b[0m\n\u001b[1;32m    734\u001b[0m \u001b[0;34m\u001b[0m\u001b[0m\n\u001b[1;32m    735\u001b[0m         \u001b[0mmodel\u001b[0m\u001b[0;34m,\u001b[0m \u001b[0mfeval\u001b[0m\u001b[0;34m,\u001b[0m \u001b[0mparams\u001b[0m \u001b[0;34m=\u001b[0m \u001b[0mself\u001b[0m\u001b[0;34m.\u001b[0m\u001b[0m_configure_fit\u001b[0m\u001b[0;34m(\u001b[0m\u001b[0mxgb_model\u001b[0m\u001b[0;34m,\u001b[0m \u001b[0meval_metric\u001b[0m\u001b[0;34m,\u001b[0m \u001b[0mparams\u001b[0m\u001b[0;34m)\u001b[0m\u001b[0;34m\u001b[0m\u001b[0;34m\u001b[0m\u001b[0m\n\u001b[0;32m--> 736\u001b[0;31m         self._Booster = train(\n\u001b[0m\u001b[1;32m    737\u001b[0m             \u001b[0mparams\u001b[0m\u001b[0;34m,\u001b[0m\u001b[0;34m\u001b[0m\u001b[0;34m\u001b[0m\u001b[0m\n\u001b[1;32m    738\u001b[0m             \u001b[0mtrain_dmatrix\u001b[0m\u001b[0;34m,\u001b[0m\u001b[0;34m\u001b[0m\u001b[0;34m\u001b[0m\u001b[0m\n",
      "\u001b[0;32m~/my_env/lib/python3.8/site-packages/xgboost/training.py\u001b[0m in \u001b[0;36mtrain\u001b[0;34m(params, dtrain, num_boost_round, evals, obj, feval, maximize, early_stopping_rounds, evals_result, verbose_eval, xgb_model, callbacks)\u001b[0m\n\u001b[1;32m    187\u001b[0m     \u001b[0mBooster\u001b[0m \u001b[0;34m:\u001b[0m \u001b[0ma\u001b[0m \u001b[0mtrained\u001b[0m \u001b[0mbooster\u001b[0m \u001b[0mmodel\u001b[0m\u001b[0;34m\u001b[0m\u001b[0;34m\u001b[0m\u001b[0m\n\u001b[1;32m    188\u001b[0m     \"\"\"\n\u001b[0;32m--> 189\u001b[0;31m     bst = _train_internal(params, dtrain,\n\u001b[0m\u001b[1;32m    190\u001b[0m                           \u001b[0mnum_boost_round\u001b[0m\u001b[0;34m=\u001b[0m\u001b[0mnum_boost_round\u001b[0m\u001b[0;34m,\u001b[0m\u001b[0;34m\u001b[0m\u001b[0;34m\u001b[0m\u001b[0m\n\u001b[1;32m    191\u001b[0m                           \u001b[0mevals\u001b[0m\u001b[0;34m=\u001b[0m\u001b[0mevals\u001b[0m\u001b[0;34m,\u001b[0m\u001b[0;34m\u001b[0m\u001b[0;34m\u001b[0m\u001b[0m\n",
      "\u001b[0;32m~/my_env/lib/python3.8/site-packages/xgboost/training.py\u001b[0m in \u001b[0;36m_train_internal\u001b[0;34m(params, dtrain, num_boost_round, evals, obj, feval, xgb_model, callbacks, evals_result, maximize, verbose_eval, early_stopping_rounds)\u001b[0m\n\u001b[1;32m     79\u001b[0m         \u001b[0;32mif\u001b[0m \u001b[0mcallbacks\u001b[0m\u001b[0;34m.\u001b[0m\u001b[0mbefore_iteration\u001b[0m\u001b[0;34m(\u001b[0m\u001b[0mbst\u001b[0m\u001b[0;34m,\u001b[0m \u001b[0mi\u001b[0m\u001b[0;34m,\u001b[0m \u001b[0mdtrain\u001b[0m\u001b[0;34m,\u001b[0m \u001b[0mevals\u001b[0m\u001b[0;34m)\u001b[0m\u001b[0;34m:\u001b[0m\u001b[0;34m\u001b[0m\u001b[0;34m\u001b[0m\u001b[0m\n\u001b[1;32m     80\u001b[0m             \u001b[0;32mbreak\u001b[0m\u001b[0;34m\u001b[0m\u001b[0;34m\u001b[0m\u001b[0m\n\u001b[0;32m---> 81\u001b[0;31m         \u001b[0mbst\u001b[0m\u001b[0;34m.\u001b[0m\u001b[0mupdate\u001b[0m\u001b[0;34m(\u001b[0m\u001b[0mdtrain\u001b[0m\u001b[0;34m,\u001b[0m \u001b[0mi\u001b[0m\u001b[0;34m,\u001b[0m \u001b[0mobj\u001b[0m\u001b[0;34m)\u001b[0m\u001b[0;34m\u001b[0m\u001b[0;34m\u001b[0m\u001b[0m\n\u001b[0m\u001b[1;32m     82\u001b[0m         \u001b[0;32mif\u001b[0m \u001b[0mcallbacks\u001b[0m\u001b[0;34m.\u001b[0m\u001b[0mafter_iteration\u001b[0m\u001b[0;34m(\u001b[0m\u001b[0mbst\u001b[0m\u001b[0;34m,\u001b[0m \u001b[0mi\u001b[0m\u001b[0;34m,\u001b[0m \u001b[0mdtrain\u001b[0m\u001b[0;34m,\u001b[0m \u001b[0mevals\u001b[0m\u001b[0;34m)\u001b[0m\u001b[0;34m:\u001b[0m\u001b[0;34m\u001b[0m\u001b[0;34m\u001b[0m\u001b[0m\n\u001b[1;32m     83\u001b[0m             \u001b[0;32mbreak\u001b[0m\u001b[0;34m\u001b[0m\u001b[0;34m\u001b[0m\u001b[0m\n",
      "\u001b[0;32m~/my_env/lib/python3.8/site-packages/xgboost/core.py\u001b[0m in \u001b[0;36mupdate\u001b[0;34m(self, dtrain, iteration, fobj)\u001b[0m\n\u001b[1;32m   1494\u001b[0m             raise TypeError('invalid training matrix: {}'.format(\n\u001b[1;32m   1495\u001b[0m                 type(dtrain).__name__))\n\u001b[0;32m-> 1496\u001b[0;31m         \u001b[0mself\u001b[0m\u001b[0;34m.\u001b[0m\u001b[0m_validate_features\u001b[0m\u001b[0;34m(\u001b[0m\u001b[0mdtrain\u001b[0m\u001b[0;34m)\u001b[0m\u001b[0;34m\u001b[0m\u001b[0;34m\u001b[0m\u001b[0m\n\u001b[0m\u001b[1;32m   1497\u001b[0m \u001b[0;34m\u001b[0m\u001b[0m\n\u001b[1;32m   1498\u001b[0m         \u001b[0;32mif\u001b[0m \u001b[0mfobj\u001b[0m \u001b[0;32mis\u001b[0m \u001b[0;32mNone\u001b[0m\u001b[0;34m:\u001b[0m\u001b[0;34m\u001b[0m\u001b[0;34m\u001b[0m\u001b[0m\n",
      "\u001b[0;32m~/my_env/lib/python3.8/site-packages/xgboost/core.py\u001b[0m in \u001b[0;36m_validate_features\u001b[0;34m(self, data)\u001b[0m\n\u001b[1;32m   2330\u001b[0m             )\n\u001b[1;32m   2331\u001b[0m         \u001b[0;31m# Booster can't accept data with different feature names\u001b[0m\u001b[0;34m\u001b[0m\u001b[0;34m\u001b[0m\u001b[0;34m\u001b[0m\u001b[0m\n\u001b[0;32m-> 2332\u001b[0;31m         \u001b[0;32mif\u001b[0m \u001b[0mself\u001b[0m\u001b[0;34m.\u001b[0m\u001b[0mfeature_names\u001b[0m \u001b[0;34m!=\u001b[0m \u001b[0mdata\u001b[0m\u001b[0;34m.\u001b[0m\u001b[0mfeature_names\u001b[0m\u001b[0;34m:\u001b[0m\u001b[0;34m\u001b[0m\u001b[0;34m\u001b[0m\u001b[0m\n\u001b[0m\u001b[1;32m   2333\u001b[0m             \u001b[0mdat_missing\u001b[0m \u001b[0;34m=\u001b[0m \u001b[0mset\u001b[0m\u001b[0;34m(\u001b[0m\u001b[0mself\u001b[0m\u001b[0;34m.\u001b[0m\u001b[0mfeature_names\u001b[0m\u001b[0;34m)\u001b[0m \u001b[0;34m-\u001b[0m \u001b[0mset\u001b[0m\u001b[0;34m(\u001b[0m\u001b[0mdata\u001b[0m\u001b[0;34m.\u001b[0m\u001b[0mfeature_names\u001b[0m\u001b[0;34m)\u001b[0m\u001b[0;34m\u001b[0m\u001b[0;34m\u001b[0m\u001b[0m\n\u001b[1;32m   2334\u001b[0m             \u001b[0mmy_missing\u001b[0m \u001b[0;34m=\u001b[0m \u001b[0mset\u001b[0m\u001b[0;34m(\u001b[0m\u001b[0mdata\u001b[0m\u001b[0;34m.\u001b[0m\u001b[0mfeature_names\u001b[0m\u001b[0;34m)\u001b[0m \u001b[0;34m-\u001b[0m \u001b[0mset\u001b[0m\u001b[0;34m(\u001b[0m\u001b[0mself\u001b[0m\u001b[0;34m.\u001b[0m\u001b[0mfeature_names\u001b[0m\u001b[0;34m)\u001b[0m\u001b[0;34m\u001b[0m\u001b[0;34m\u001b[0m\u001b[0m\n",
      "\u001b[0;32m~/my_env/lib/python3.8/site-packages/xgboost/core.py\u001b[0m in \u001b[0;36mfeature_names\u001b[0;34m(self)\u001b[0m\n\u001b[1;32m   1431\u001b[0m \u001b[0;34m\u001b[0m\u001b[0m\n\u001b[1;32m   1432\u001b[0m         \"\"\"\n\u001b[0;32m-> 1433\u001b[0;31m         \u001b[0;32mreturn\u001b[0m \u001b[0mself\u001b[0m\u001b[0;34m.\u001b[0m\u001b[0m_get_feature_info\u001b[0m\u001b[0;34m(\u001b[0m\u001b[0;34m\"feature_name\"\u001b[0m\u001b[0;34m)\u001b[0m\u001b[0;34m\u001b[0m\u001b[0;34m\u001b[0m\u001b[0m\n\u001b[0m\u001b[1;32m   1434\u001b[0m \u001b[0;34m\u001b[0m\u001b[0m\n\u001b[1;32m   1435\u001b[0m     \u001b[0;32mdef\u001b[0m \u001b[0m_set_feature_info\u001b[0m\u001b[0;34m(\u001b[0m\u001b[0mself\u001b[0m\u001b[0;34m,\u001b[0m \u001b[0mfeatures\u001b[0m\u001b[0;34m:\u001b[0m \u001b[0mOptional\u001b[0m\u001b[0;34m[\u001b[0m\u001b[0mList\u001b[0m\u001b[0;34m[\u001b[0m\u001b[0mstr\u001b[0m\u001b[0;34m]\u001b[0m\u001b[0;34m]\u001b[0m\u001b[0;34m,\u001b[0m \u001b[0mfield\u001b[0m\u001b[0;34m:\u001b[0m \u001b[0mstr\u001b[0m\u001b[0;34m)\u001b[0m \u001b[0;34m->\u001b[0m \u001b[0;32mNone\u001b[0m\u001b[0;34m:\u001b[0m\u001b[0;34m\u001b[0m\u001b[0;34m\u001b[0m\u001b[0m\n",
      "\u001b[0;32m~/my_env/lib/python3.8/site-packages/xgboost/core.py\u001b[0m in \u001b[0;36m_get_feature_info\u001b[0;34m(self, field)\u001b[0m\n\u001b[1;32m   1414\u001b[0m             )\n\u001b[1;32m   1415\u001b[0m         )\n\u001b[0;32m-> 1416\u001b[0;31m         \u001b[0mfeature_info\u001b[0m \u001b[0;34m=\u001b[0m \u001b[0mfrom_cstr_to_pystr\u001b[0m\u001b[0;34m(\u001b[0m\u001b[0msarr\u001b[0m\u001b[0;34m,\u001b[0m \u001b[0mlength\u001b[0m\u001b[0;34m)\u001b[0m\u001b[0;34m\u001b[0m\u001b[0;34m\u001b[0m\u001b[0m\n\u001b[0m\u001b[1;32m   1417\u001b[0m         \u001b[0;32mreturn\u001b[0m \u001b[0mfeature_info\u001b[0m \u001b[0;32mif\u001b[0m \u001b[0mfeature_info\u001b[0m \u001b[0;32melse\u001b[0m \u001b[0;32mNone\u001b[0m\u001b[0;34m\u001b[0m\u001b[0;34m\u001b[0m\u001b[0m\n\u001b[1;32m   1418\u001b[0m \u001b[0;34m\u001b[0m\u001b[0m\n",
      "\u001b[0;32m~/my_env/lib/python3.8/site-packages/xgboost/core.py\u001b[0m in \u001b[0;36mfrom_cstr_to_pystr\u001b[0;34m(data, length)\u001b[0m\n\u001b[1;32m     89\u001b[0m     \"\"\"\n\u001b[1;32m     90\u001b[0m     \u001b[0mres\u001b[0m \u001b[0;34m=\u001b[0m \u001b[0;34m[\u001b[0m\u001b[0;34m]\u001b[0m\u001b[0;34m\u001b[0m\u001b[0;34m\u001b[0m\u001b[0m\n\u001b[0;32m---> 91\u001b[0;31m     \u001b[0;32mfor\u001b[0m \u001b[0mi\u001b[0m \u001b[0;32min\u001b[0m \u001b[0mrange\u001b[0m\u001b[0;34m(\u001b[0m\u001b[0mlength\u001b[0m\u001b[0;34m.\u001b[0m\u001b[0mvalue\u001b[0m\u001b[0;34m)\u001b[0m\u001b[0;34m:\u001b[0m\u001b[0;34m\u001b[0m\u001b[0;34m\u001b[0m\u001b[0m\n\u001b[0m\u001b[1;32m     92\u001b[0m         \u001b[0;32mtry\u001b[0m\u001b[0;34m:\u001b[0m\u001b[0;34m\u001b[0m\u001b[0;34m\u001b[0m\u001b[0m\n\u001b[1;32m     93\u001b[0m             \u001b[0mres\u001b[0m\u001b[0;34m.\u001b[0m\u001b[0mappend\u001b[0m\u001b[0;34m(\u001b[0m\u001b[0mstr\u001b[0m\u001b[0;34m(\u001b[0m\u001b[0mdata\u001b[0m\u001b[0;34m[\u001b[0m\u001b[0mi\u001b[0m\u001b[0;34m]\u001b[0m\u001b[0;34m.\u001b[0m\u001b[0mdecode\u001b[0m\u001b[0;34m(\u001b[0m\u001b[0;34m'ascii'\u001b[0m\u001b[0;34m)\u001b[0m\u001b[0;34m)\u001b[0m\u001b[0;34m)\u001b[0m\u001b[0;34m\u001b[0m\u001b[0;34m\u001b[0m\u001b[0m\n",
      "\u001b[0;31mKeyboardInterrupt\u001b[0m: "
     ]
    },
    {
     "name": "stdout",
     "output_type": "stream",
     "text": [
      "time: 2.54 s (started: 2022-02-10 16:00:38 +03:00)\n"
     ]
    }
   ],
   "source": [
    "lst = list(X_trn_std.columns.values[4:])\n",
    "cols_errors = {}\n",
    "colonki = pd.DataFrame()\n",
    "colonki_2 = pd.DataFrame(index=lst, columns=range(144))\n",
    "res = pd.DataFrame()\n",
    "commit_res = {}\n",
    "\n",
    "regressor = xgb.XGBRegressor('reg:squarederror',\n",
    "                              n_estimators=100,\n",
    "                              max_depth=5,\n",
    "                              learning_rate=0.05,\n",
    "                              tree_method='gpu_hist')\n",
    "\n",
    "for n in tqdm(range(144), desc='main_iter'):\n",
    "    full_res = []\n",
    "    for i in tqdm(range(0, 144, 10), desc='sub_iter', leave=False):\n",
    "        if len(lst) >= i:\n",
    "            cols_for_check = lst[i:i+10]\n",
    "            full_res.extend(feature_estimator(regressor, X_trn_std, y_trn_std, X_tst_std, y_tst_std, n))\n",
    "            \n",
    "    colonki_2[n] = pd.Series(dict(ChainMap(*full_res)))\n",
    "    column_for_drop = colonki_2.applymap(np.mean).idxmin()[n]\n",
    "    colonki.append(lst)\n",
    "    \n",
    "    X_trn_std.drop(column_for_drop, axis=1, inplace=True)\n",
    "    X_tst_std.drop(column_for_drop, axis=1, inplace=True)\n",
    "    \n",
    "    lst.remove(column_for_drop)"
   ]
  },
  {
   "cell_type": "code",
   "execution_count": 22,
   "metadata": {},
   "outputs": [
    {
     "data": {
      "image/png": "[encoded data removed]",
      "text/plain": [
       "<Figure size 1152x648 with 1 Axes>"
      ]
     },
     "metadata": {
      "needs_background": "light"
     },
     "output_type": "display_data"
    },
    {
     "name": "stdout",
     "output_type": "stream",
     "text": [
      "time: 442 ms (started: 2022-02-08 21:37:22 +03:00)\n"
     ]
    }
   ],
   "source": [
    "ax = colonki_2.applymap(np.mean).min()[:-1].plot(figsize=(16,9))\n",
    "plt.style.use('ggplot')\n",
    "ax.set_title(\"Ошибка прогнозирования в зависимости от набора признаков\", {'fontsize':25})\n",
    "ax.set_ylabel(\"СКО, нТ\", {'fontsize':16})\n",
    "ax.set_xlabel(\"Номер набора\", {'fontsize':16})\n",
    "# ax.legend(loc=4, prop={'size': 15})\n",
    "plt.setp(ax.lines, linewidth=2, color='k')\n",
    "ax.tick_params(axis='both', which='major', labelsize=15)\n",
    "ax.tick_params(axis='both', which='minor', labelsize=15)\n",
    "ax.get_figure().savefig(f'Errs_of_sets_{fc_hours}h.png')\n",
    "plt.show()"
   ]
  },
  {
   "cell_type": "code",
   "execution_count": 22,
   "metadata": {},
   "outputs": [
    {
     "data": {
      "text/plain": [
       "<AxesSubplot:>"
      ]
     },
     "execution_count": 22,
     "metadata": {},
     "output_type": "execute_result"
    },
    {
     "data": {
      "image/png": "[encoded data removed]",
      "text/plain": [
       "<Figure size 432x288 with 1 Axes>"
      ]
     },
     "metadata": {},
     "output_type": "display_data"
    },
    {
     "name": "stdout",
     "output_type": "stream",
     "text": [
      "time: 519 ms (started: 2022-02-03 21:16:40 +03:00)\n"
     ]
    }
   ],
   "source": [
    "colonki_2.applymap(np.std).max().plot()"
   ]
  },
  {
   "cell_type": "code",
   "execution_count": 21,
   "metadata": {},
   "outputs": [
    {
     "name": "stdout",
     "output_type": "stream",
     "text": [
      "time: 72.9 ms (started: 2022-02-27 15:09:28 +03:00)\n"
     ]
    }
   ],
   "source": [
    "colonki_filename = os.path.join(experiment_dir, 'colonki_2.pickle')\n",
    "if os.path.exists(colonki_filename):\n",
    "    colonki_2 = pd.read_pickle(colonki_filename)\n",
    "else:\n",
    "    colonki_2.to_pickle(colonki_filename)"
   ]
  },
  {
   "cell_type": "markdown",
   "metadata": {},
   "source": [
    "Отбор линрегом завершен, используем далее colonki_2\n",
    "=="
   ]
  },
  {
   "cell_type": "code",
   "execution_count": 22,
   "metadata": {},
   "outputs": [
    {
     "data": {
      "text/plain": [
       "108"
      ]
     },
     "execution_count": 22,
     "metadata": {},
     "output_type": "execute_result"
    },
    {
     "name": "stdout",
     "output_type": "stream",
     "text": [
      "time: 168 ms (started: 2022-02-27 15:09:33 +03:00)\n"
     ]
    }
   ],
   "source": [
    "colonki_2.applymap(np.mean).min().idxmin()"
   ]
  },
  {
   "cell_type": "code",
   "execution_count": 23,
   "metadata": {
    "scrolled": false
   },
   "outputs": [
    {
     "data": {
      "text/plain": [
       "(39,\n",
       " ['doySin',\n",
       "  'hourSin',\n",
       "  'doyCos',\n",
       "  'hourCos',\n",
       "  'Dst_-0',\n",
       "  'B_gsm_z_-0',\n",
       "  'B_magn_-0',\n",
       "  'SW_spd_-0',\n",
       "  'H_den_SWP_-0',\n",
       "  'Dst_-1',\n",
       "  'B_gsm_z_-1',\n",
       "  'SW_spd_-1',\n",
       "  'H_den_SWP_-1',\n",
       "  'B_gsm_z_-2',\n",
       "  'SW_spd_-2',\n",
       "  'H_den_SWP_-2',\n",
       "  'Dst_-3',\n",
       "  'B_gsm_z_-3',\n",
       "  'B_magn_-3',\n",
       "  'B_magn_-4',\n",
       "  'SW_spd_-4',\n",
       "  'Dst_-5',\n",
       "  'B_gsm_y_-6',\n",
       "  'Dst_-7',\n",
       "  'B_gsm_y_-8',\n",
       "  'Dst_-9',\n",
       "  'Dst_-10',\n",
       "  'Dst_-11',\n",
       "  'B_magn_-11',\n",
       "  'B_magn_-12',\n",
       "  'B_magn_-15',\n",
       "  'SW_spd_-16',\n",
       "  'Dst_-19',\n",
       "  'Dst_-20',\n",
       "  'Dst_-21',\n",
       "  'SW_spd_-21',\n",
       "  'Dst_-22',\n",
       "  'B_gsm_y_-22',\n",
       "  'Dst_-23'])"
      ]
     },
     "execution_count": 23,
     "metadata": {},
     "output_type": "execute_result"
    },
    {
     "name": "stdout",
     "output_type": "stream",
     "text": [
      "time: 458 ms (started: 2022-02-27 15:09:35 +03:00)\n"
     ]
    }
   ],
   "source": [
    "iter_num = colonki_2.applymap(np.mean).min().idxmin()\n",
    "col = colonki_2.applymap(np.mean).min(axis=1).idxmin()\n",
    "i = 0\n",
    "\n",
    "best_set = colonki_2.applymap(np.mean)[[iter_num]].dropna().index.tolist()\n",
    "best_set.extend(['doySin', 'hourSin', 'doyCos', 'hourCos'])\n",
    "best_set.remove(col)\n",
    "best_set = best_set[-4:] + best_set[:-4]\n",
    "len(best_set), best_set"
   ]
  },
  {
   "cell_type": "markdown",
   "metadata": {},
   "source": [
    "Линрег на лучшем для нее отборе и на полном\n",
    "=="
   ]
  },
  {
   "cell_type": "code",
   "execution_count": 24,
   "metadata": {},
   "outputs": [
    {
     "data": {
      "text/plain": [
       "LinearRegression()"
      ]
     },
     "execution_count": 24,
     "metadata": {},
     "output_type": "execute_result"
    },
    {
     "name": "stdout",
     "output_type": "stream",
     "text": [
      "time: 3.54 s (started: 2022-02-27 15:09:36 +03:00)\n"
     ]
    }
   ],
   "source": [
    "linreg_full = LinearRegression()\n",
    "linreg_best = LinearRegression()\n",
    "\n",
    "X_trn_std, y_trn_std, X_tst_std, y_tst_std, in_, out_= trn_tst_scal(data_transformed, X.columns, [fc_colname], trn_cond, in_scaler, out_scaler)\n",
    "\n",
    "linreg_full.fit(X_trn_std, y_trn_std)\n",
    "linreg_best.fit(X_trn_std[best_set], y_trn_std)"
   ]
  },
  {
   "cell_type": "code",
   "execution_count": 27,
   "metadata": {},
   "outputs": [
    {
     "name": "stderr",
     "output_type": "stream",
     "text": [
      "/home/roman/my_env/lib/python3.8/site-packages/xgboost/core.py:430: FutureWarning: Pass `objective` as keyword args.  Passing these as positional arguments will be considered as error in future releases.\n",
      "  warnings.warn(\n",
      "/home/roman/my_env/lib/python3.8/site-packages/xgboost/data.py:208: FutureWarning: pandas.Int64Index is deprecated and will be removed from pandas in a future version. Use pandas.Index with the appropriate dtype instead.\n",
      "  from pandas import MultiIndex, Int64Index\n",
      "/home/roman/my_env/lib/python3.8/site-packages/xgboost/data.py:208: FutureWarning: pandas.Int64Index is deprecated and will be removed from pandas in a future version. Use pandas.Index with the appropriate dtype instead.\n",
      "  from pandas import MultiIndex, Int64Index\n"
     ]
    },
    {
     "name": "stdout",
     "output_type": "stream",
     "text": [
      "Train\n",
      "0.9630391561409243\n",
      "0.9075577602185856\n",
      "\n",
      "\n",
      "Test\n",
      "0.9601552620847822\n",
      "0.9058871059611744\n",
      "time: 1min 33s (started: 2022-02-27 15:10:58 +03:00)\n"
     ]
    }
   ],
   "source": [
    "xgb_full = xgb.XGBRegressor('reg:squarederror',\n",
    "                              n_estimators=1500,\n",
    "                              max_depth=4,\n",
    "                              learning_rate=0.05,\n",
    "                              tree_method='gpu_hist')\n",
    "xgb_best = xgb.XGBRegressor('reg:squarederror',\n",
    "                              n_estimators=1500,\n",
    "                              max_depth=4,\n",
    "                              learning_rate=0.05,\n",
    "                              tree_method='gpu_hist')\n",
    "\n",
    "X_trn_std, y_trn_std, X_tst_std, y_tst_std, in_, out_= trn_tst_scal(data_transformed, X.columns, [fc_colname], trn_cond, in_scaler, out_scaler)\n",
    "\n",
    "xgb_full.fit(X_trn_std, y_trn_std)\n",
    "xgb_best.fit(X_trn_std[best_set], y_trn_std)\n",
    "\n",
    "print('Train')\n",
    "print(xgb_full.score(X_trn_std, y_trn_std))\n",
    "print(xgb_full.score(X_tst_std, y_tst_std))\n",
    "print('\\n')\n",
    "\n",
    "print('Test')\n",
    "print(xgb_best.score(X_trn_std[best_set], y_trn_std))\n",
    "print(xgb_best.score(X_tst_std[best_set], y_tst_std))"
   ]
  },
  {
   "cell_type": "markdown",
   "metadata": {},
   "source": [
    "Сортируем колонки для доп отбора фичей для mlp\n",
    "=="
   ]
  },
  {
   "cell_type": "code",
   "execution_count": 28,
   "metadata": {},
   "outputs": [
    {
     "data": {
      "text/plain": [
       "39"
      ]
     },
     "execution_count": 28,
     "metadata": {},
     "output_type": "execute_result"
    },
    {
     "name": "stdout",
     "output_type": "stream",
     "text": [
      "time: 2.08 ms (started: 2022-02-27 15:12:32 +03:00)\n"
     ]
    }
   ],
   "source": [
    "len(best_set)"
   ]
  },
  {
   "cell_type": "code",
   "execution_count": 29,
   "metadata": {
    "scrolled": true
   },
   "outputs": [
    {
     "name": "stdout",
     "output_type": "stream",
     "text": [
      "time: 8.29 ms (started: 2022-02-27 15:12:32 +03:00)\n"
     ]
    }
   ],
   "source": [
    "all_features_sorted_importance = colonki_2.notnull().sum(axis=1).sort_values(ascending=False).index.to_list()\n",
    "best_set_sorted = [x for x in all_features_sorted_importance if x in best_set]"
   ]
  },
  {
   "cell_type": "code",
   "execution_count": 30,
   "metadata": {
    "scrolled": true
   },
   "outputs": [
    {
     "data": {
      "text/plain": [
       "(['Dst_-0',\n",
       "  'B_gsm_z_-0',\n",
       "  'SW_spd_-0',\n",
       "  'B_gsm_z_-3',\n",
       "  'B_gsm_z_-1',\n",
       "  'Dst_-21',\n",
       "  'H_den_SWP_-0',\n",
       "  'H_den_SWP_-2',\n",
       "  'Dst_-7',\n",
       "  'B_magn_-4',\n",
       "  'B_gsm_z_-2',\n",
       "  'H_den_SWP_-1',\n",
       "  'Dst_-5',\n",
       "  'Dst_-3',\n",
       "  'SW_spd_-1',\n",
       "  'B_magn_-0',\n",
       "  'Dst_-10',\n",
       "  'B_gsm_y_-8',\n",
       "  'SW_spd_-2',\n",
       "  'Dst_-19',\n",
       "  'Dst_-20',\n",
       "  'Dst_-1',\n",
       "  'B_magn_-15',\n",
       "  'B_gsm_y_-6',\n",
       "  'Dst_-22',\n",
       "  'SW_spd_-4',\n",
       "  'B_magn_-11',\n",
       "  'B_magn_-3',\n",
       "  'SW_spd_-16',\n",
       "  'Dst_-23',\n",
       "  'B_gsm_y_-22',\n",
       "  'Dst_-11',\n",
       "  'B_magn_-12',\n",
       "  'Dst_-9',\n",
       "  'SW_spd_-21'],\n",
       " ['doySin',\n",
       "  'hourSin',\n",
       "  'doyCos',\n",
       "  'hourCos',\n",
       "  'Dst_-0',\n",
       "  'B_gsm_z_-0',\n",
       "  'B_magn_-0',\n",
       "  'SW_spd_-0',\n",
       "  'H_den_SWP_-0',\n",
       "  'Dst_-1',\n",
       "  'B_gsm_z_-1',\n",
       "  'SW_spd_-1',\n",
       "  'H_den_SWP_-1',\n",
       "  'B_gsm_z_-2',\n",
       "  'SW_spd_-2',\n",
       "  'H_den_SWP_-2',\n",
       "  'Dst_-3',\n",
       "  'B_gsm_z_-3',\n",
       "  'B_magn_-3',\n",
       "  'B_magn_-4',\n",
       "  'SW_spd_-4',\n",
       "  'Dst_-5',\n",
       "  'B_gsm_y_-6',\n",
       "  'Dst_-7',\n",
       "  'B_gsm_y_-8',\n",
       "  'Dst_-9',\n",
       "  'Dst_-10',\n",
       "  'Dst_-11',\n",
       "  'B_magn_-11',\n",
       "  'B_magn_-12',\n",
       "  'B_magn_-15',\n",
       "  'SW_spd_-16',\n",
       "  'Dst_-19',\n",
       "  'Dst_-20',\n",
       "  'Dst_-21',\n",
       "  'SW_spd_-21',\n",
       "  'Dst_-22',\n",
       "  'B_gsm_y_-22',\n",
       "  'Dst_-23'])"
      ]
     },
     "execution_count": 30,
     "metadata": {},
     "output_type": "execute_result"
    },
    {
     "name": "stdout",
     "output_type": "stream",
     "text": [
      "time: 3.9 ms (started: 2022-02-27 15:12:32 +03:00)\n"
     ]
    }
   ],
   "source": [
    "best_set_sorted, best_set"
   ]
  },
  {
   "cell_type": "markdown",
   "metadata": {},
   "source": [
    "Отбор от 3 фичей, не считая синусов до 22 либо до длины лучшего набора (обсуждаемо)\n",
    "===\n",
    "В качестве резов rmse и r2 для трейна и теста\n",
    "==="
   ]
  },
  {
   "cell_type": "code",
   "execution_count": 31,
   "metadata": {},
   "outputs": [
    {
     "name": "stdout",
     "output_type": "stream",
     "text": [
      "time: 693 µs (started: 2022-02-27 15:12:32 +03:00)\n"
     ]
    }
   ],
   "source": [
    "emsembles_path = os.path.join(experiment_dir, 'ensembles')\n",
    "Path(emsembles_path).mkdir(parents=True, exist_ok=True)"
   ]
  },
  {
   "cell_type": "code",
   "execution_count": 32,
   "metadata": {},
   "outputs": [
    {
     "data": {
      "text/plain": [
       "'/home/roman/Projects/Cosmos/GPU_features_selection_exps/feature_selection_trn2016_GB_del_2h/ensembles'"
      ]
     },
     "execution_count": 32,
     "metadata": {},
     "output_type": "execute_result"
    },
    {
     "name": "stdout",
     "output_type": "stream",
     "text": [
      "time: 2.48 ms (started: 2022-02-27 15:12:32 +03:00)\n"
     ]
    }
   ],
   "source": [
    "emsembles_path"
   ]
  },
  {
   "cell_type": "code",
   "execution_count": null,
   "metadata": {
    "scrolled": true
   },
   "outputs": [],
   "source": [
    "trn_rmse = []\n",
    "tst_rmse = []\n",
    "\n",
    "trn_r2 = []\n",
    "tst_r2 = []\n",
    "X_trn_std, y_trn_std, X_tst_std, y_tst_std, in_, out_= trn_tst_scal(data_transformed, X.columns, [fc_colname], trn_cond, in_scaler, out_scaler)\n",
    "for n in range(3, 32):\n",
    "    features = ['doySin', 'hourSin', 'doyCos', 'hourCos'] + best_set_sorted[:n]\n",
    "    if os.path.isfile(f'{emsembles_path}/mlp_model_{n}'):\n",
    "        encemb = joblib.load(f'{emsembles_path}/mlp_model_{n}')\n",
    "    else:\n",
    "        encemb = VotingRegressor([(\"0\", MLPRegressor(hidden_layer_sizes=(32,),\n",
    "                                              solver='sgd',\n",
    "                                              learning_rate_init=0.001,\n",
    "                                              alpha=0.01,\n",
    "                                              validation_fraction=0.2,\n",
    "                                              max_iter=3000,\n",
    "                                              n_iter_no_change=500,\n",
    "                    #                               verbose=True, \n",
    "                                              early_stopping=True,\n",
    "                                              activation='tanh')),\n",
    "                                 (\"1\", MLPRegressor(hidden_layer_sizes=(32,),\n",
    "                                              solver='sgd',\n",
    "                                              learning_rate_init=0.001,\n",
    "                                              alpha=0.01,\n",
    "                                              validation_fraction=0.2,\n",
    "                                              max_iter=3000,\n",
    "                                              n_iter_no_change=500,\n",
    "                    #                               verbose=True, \n",
    "                                              early_stopping=True,\n",
    "                                              activation='tanh')),\n",
    "                                 (\"2\", MLPRegressor(hidden_layer_sizes=(32,),\n",
    "                                              solver='sgd',\n",
    "                                              learning_rate_init=0.001,\n",
    "                                              alpha=0.01,\n",
    "                                              validation_fraction=0.2,\n",
    "                                              max_iter=3000,\n",
    "                                              n_iter_no_change=500,\n",
    "                    #                               verbose=True, \n",
    "                                              early_stopping=True,\n",
    "                                              activation='tanh')),\n",
    "                                 (\"3\", MLPRegressor(hidden_layer_sizes=(32,),\n",
    "                                              solver='sgd',\n",
    "                                              learning_rate_init=0.001,\n",
    "                                              alpha=0.01,\n",
    "                                              validation_fraction=0.2,\n",
    "                                              max_iter=3000,\n",
    "                                              n_iter_no_change=500,\n",
    "                    #                               verbose=True, \n",
    "                                              early_stopping=True,\n",
    "                                              activation='tanh')),\n",
    "                                 (\"4\", MLPRegressor(hidden_layer_sizes=(32,),\n",
    "                                              solver='sgd',\n",
    "                                              learning_rate_init=0.001,\n",
    "                                              alpha=0.01,\n",
    "                                              validation_fraction=0.2,\n",
    "                                              max_iter=3000,\n",
    "                                              n_iter_no_change=500,\n",
    "                    #                               verbose=True, \n",
    "                                              early_stopping=True,\n",
    "                                              activation='tanh'))])\n",
    "        encemb.fit(X_trn_std[features], y_trn_std)\n",
    "        joblib.dump(encemb, f'{emsembles_path}/mlp_model_{n}')\n",
    "\n",
    "    \n",
    "    comm_trn_rmse = []\n",
    "    comm_tst_rmse = []\n",
    "    comm_trn_r2 = []\n",
    "    comm_tst_r2 = []\n",
    "    for i in range(5):\n",
    "        model = encemb.named_estimators_[str(i)]\n",
    "\n",
    "        best_trn_rmse = np.sqrt(mean_squared_error(out_scaler.inverse_transform(y_trn_std), \\\n",
    "        out_scaler.inverse_transform(model.predict(X_trn_std[features]).reshape(-1,1))))\n",
    "        comm_trn_rmse.append(best_trn_rmse)\n",
    "        \n",
    "        best_tst_rmse = np.sqrt(mean_squared_error(out_scaler.inverse_transform(y_tst_std), \\\n",
    "        out_scaler.inverse_transform(model.predict(X_tst_std[features]).reshape(-1,1))))\n",
    "        comm_tst_rmse.append(best_trn_rmse)\n",
    "\n",
    "        best_trn_r2 = r2_score(out_scaler.inverse_transform(y_trn_std), \\\n",
    "        out_scaler.inverse_transform(model.predict(X_trn_std[features]).reshape(-1,1)))\n",
    "        comm_trn_r2.append(best_trn_r2)\n",
    "        \n",
    "        best_tst_r2 = r2_score(out_scaler.inverse_transform(y_tst_std), \\\n",
    "        out_scaler.inverse_transform(model.predict(X_tst_std[features]).reshape(-1,1)))\n",
    "        comm_tst_r2.append(best_trn_r2)\n",
    "        \n",
    "    \n",
    "    \n",
    "    trn_rmse.append(comm_trn_rmse)\n",
    "    tst_rmse.append(comm_tst_rmse)\n",
    "    trn_r2.append(comm_trn_r2)\n",
    "    tst_r2.append(comm_tst_r2)\n",
    "    print(n, ':', comm_trn_rmse, comm_tst_rmse)\n",
    "    print(n, ':', comm_trn_r2, comm_tst_r2, '\\n')"
   ]
  },
  {
   "cell_type": "code",
   "execution_count": null,
   "metadata": {},
   "outputs": [],
   "source": [
    "len(tst_r2)"
   ]
  },
  {
   "cell_type": "code",
   "execution_count": null,
   "metadata": {},
   "outputs": [],
   "source": [
    "comm_res = pd.DataFrame()\n",
    "comm_res['mean'] = pd.DataFrame(tst_rmse).T.mean()\n",
    "comm_res['std'] = pd.DataFrame(tst_rmse).T.std()\n",
    "\n",
    "x = list(range(3, len(tst_r2) + 3))\n",
    "\n",
    "import matplotlib.pyplot as plt\n",
    "\n",
    "plt.figure(figsize=(16,9))\n",
    "plt.plot(x, comm_res['mean'], color='b')\n",
    "plt.plot(x, comm_res['mean'], 'o', color='b')\n",
    "\n",
    "# plt.plot(comm_res['y-err'])\n",
    "# plt.plot(comm_res['y+err'])\n",
    "\n",
    "\n",
    "plt.fill_between(x,\n",
    "                 comm_res['mean'] - comm_res['std'],\n",
    "                 comm_res['mean'] + comm_res['std'], color='b', alpha=0.2)\n",
    "\n",
    "plt.ylabel('RMSE')\n",
    "plt.xlabel('Number of features')\n",
    "plt.savefig(f'committee_mlp_rmse_std_{fc_hours}h.png')\n",
    "plt.show()"
   ]
  },
  {
   "cell_type": "code",
   "execution_count": 32,
   "metadata": {},
   "outputs": [
    {
     "name": "stdout",
     "output_type": "stream",
     "text": [
      "time: 4.66 ms (started: 2022-02-27 01:59:27 +03:00)\n"
     ]
    }
   ],
   "source": [
    "mlp_otbor_rmse = pd.DataFrame({'trn_rmse':trn_rmse,\n",
    "            'tst_rmse':tst_rmse})\n",
    "mlp_otbor_rmse.index = range(3, 32)\n",
    "mlp_otbor_rmse.to_csv(f'mlp_otbor_rmse_{fc_hours}h.csv')"
   ]
  },
  {
   "cell_type": "code",
   "execution_count": 33,
   "metadata": {
    "scrolled": true
   },
   "outputs": [
    {
     "data": {
      "text/html": [
       "<div>\n",
       "<style scoped>\n",
       "    .dataframe tbody tr th:only-of-type {\n",
       "        vertical-align: middle;\n",
       "    }\n",
       "\n",
       "    .dataframe tbody tr th {\n",
       "        vertical-align: top;\n",
       "    }\n",
       "\n",
       "    .dataframe thead th {\n",
       "        text-align: right;\n",
       "    }\n",
       "</style>\n",
       "<table border=\"1\" class=\"dataframe\">\n",
       "  <thead>\n",
       "    <tr style=\"text-align: right;\">\n",
       "      <th></th>\n",
       "      <th>trn_rmse</th>\n",
       "      <th>tst_rmse</th>\n",
       "    </tr>\n",
       "  </thead>\n",
       "  <tbody>\n",
       "    <tr>\n",
       "      <th>3</th>\n",
       "      <td>6.053497</td>\n",
       "      <td>6.053497</td>\n",
       "    </tr>\n",
       "    <tr>\n",
       "      <th>4</th>\n",
       "      <td>5.881912</td>\n",
       "      <td>5.881912</td>\n",
       "    </tr>\n",
       "    <tr>\n",
       "      <th>5</th>\n",
       "      <td>5.881480</td>\n",
       "      <td>5.881480</td>\n",
       "    </tr>\n",
       "    <tr>\n",
       "      <th>6</th>\n",
       "      <td>5.852014</td>\n",
       "      <td>5.852014</td>\n",
       "    </tr>\n",
       "    <tr>\n",
       "      <th>7</th>\n",
       "      <td>5.810650</td>\n",
       "      <td>5.810650</td>\n",
       "    </tr>\n",
       "    <tr>\n",
       "      <th>8</th>\n",
       "      <td>5.658401</td>\n",
       "      <td>5.658401</td>\n",
       "    </tr>\n",
       "    <tr>\n",
       "      <th>9</th>\n",
       "      <td>5.684715</td>\n",
       "      <td>5.684715</td>\n",
       "    </tr>\n",
       "    <tr>\n",
       "      <th>10</th>\n",
       "      <td>5.553776</td>\n",
       "      <td>5.553776</td>\n",
       "    </tr>\n",
       "    <tr>\n",
       "      <th>11</th>\n",
       "      <td>5.531536</td>\n",
       "      <td>5.531536</td>\n",
       "    </tr>\n",
       "    <tr>\n",
       "      <th>12</th>\n",
       "      <td>5.471193</td>\n",
       "      <td>5.471193</td>\n",
       "    </tr>\n",
       "    <tr>\n",
       "      <th>13</th>\n",
       "      <td>5.482564</td>\n",
       "      <td>5.482564</td>\n",
       "    </tr>\n",
       "    <tr>\n",
       "      <th>14</th>\n",
       "      <td>5.484390</td>\n",
       "      <td>5.484390</td>\n",
       "    </tr>\n",
       "    <tr>\n",
       "      <th>15</th>\n",
       "      <td>5.487172</td>\n",
       "      <td>5.487172</td>\n",
       "    </tr>\n",
       "    <tr>\n",
       "      <th>16</th>\n",
       "      <td>5.333498</td>\n",
       "      <td>5.333498</td>\n",
       "    </tr>\n",
       "    <tr>\n",
       "      <th>17</th>\n",
       "      <td>5.327083</td>\n",
       "      <td>5.327083</td>\n",
       "    </tr>\n",
       "    <tr>\n",
       "      <th>18</th>\n",
       "      <td>5.319151</td>\n",
       "      <td>5.319151</td>\n",
       "    </tr>\n",
       "    <tr>\n",
       "      <th>19</th>\n",
       "      <td>5.341645</td>\n",
       "      <td>5.341645</td>\n",
       "    </tr>\n",
       "    <tr>\n",
       "      <th>20</th>\n",
       "      <td>5.360981</td>\n",
       "      <td>5.360981</td>\n",
       "    </tr>\n",
       "    <tr>\n",
       "      <th>21</th>\n",
       "      <td>5.350805</td>\n",
       "      <td>5.350805</td>\n",
       "    </tr>\n",
       "    <tr>\n",
       "      <th>22</th>\n",
       "      <td>5.423800</td>\n",
       "      <td>5.423800</td>\n",
       "    </tr>\n",
       "    <tr>\n",
       "      <th>23</th>\n",
       "      <td>5.414249</td>\n",
       "      <td>5.414249</td>\n",
       "    </tr>\n",
       "    <tr>\n",
       "      <th>24</th>\n",
       "      <td>5.420976</td>\n",
       "      <td>5.420976</td>\n",
       "    </tr>\n",
       "    <tr>\n",
       "      <th>25</th>\n",
       "      <td>5.423584</td>\n",
       "      <td>5.423584</td>\n",
       "    </tr>\n",
       "    <tr>\n",
       "      <th>26</th>\n",
       "      <td>5.384576</td>\n",
       "      <td>5.384576</td>\n",
       "    </tr>\n",
       "    <tr>\n",
       "      <th>27</th>\n",
       "      <td>5.393261</td>\n",
       "      <td>5.393261</td>\n",
       "    </tr>\n",
       "    <tr>\n",
       "      <th>28</th>\n",
       "      <td>5.420601</td>\n",
       "      <td>5.420601</td>\n",
       "    </tr>\n",
       "    <tr>\n",
       "      <th>29</th>\n",
       "      <td>5.408323</td>\n",
       "      <td>5.408323</td>\n",
       "    </tr>\n",
       "    <tr>\n",
       "      <th>30</th>\n",
       "      <td>5.365855</td>\n",
       "      <td>5.365855</td>\n",
       "    </tr>\n",
       "    <tr>\n",
       "      <th>31</th>\n",
       "      <td>5.400295</td>\n",
       "      <td>5.400295</td>\n",
       "    </tr>\n",
       "  </tbody>\n",
       "</table>\n",
       "</div>"
      ],
      "text/plain": [
       "    trn_rmse  tst_rmse\n",
       "3   6.053497  6.053497\n",
       "4   5.881912  5.881912\n",
       "5   5.881480  5.881480\n",
       "6   5.852014  5.852014\n",
       "7   5.810650  5.810650\n",
       "8   5.658401  5.658401\n",
       "9   5.684715  5.684715\n",
       "10  5.553776  5.553776\n",
       "11  5.531536  5.531536\n",
       "12  5.471193  5.471193\n",
       "13  5.482564  5.482564\n",
       "14  5.484390  5.484390\n",
       "15  5.487172  5.487172\n",
       "16  5.333498  5.333498\n",
       "17  5.327083  5.327083\n",
       "18  5.319151  5.319151\n",
       "19  5.341645  5.341645\n",
       "20  5.360981  5.360981\n",
       "21  5.350805  5.350805\n",
       "22  5.423800  5.423800\n",
       "23  5.414249  5.414249\n",
       "24  5.420976  5.420976\n",
       "25  5.423584  5.423584\n",
       "26  5.384576  5.384576\n",
       "27  5.393261  5.393261\n",
       "28  5.420601  5.420601\n",
       "29  5.408323  5.408323\n",
       "30  5.365855  5.365855\n",
       "31  5.400295  5.400295"
      ]
     },
     "execution_count": 33,
     "metadata": {},
     "output_type": "execute_result"
    },
    {
     "name": "stdout",
     "output_type": "stream",
     "text": [
      "time: 9.25 ms (started: 2022-02-27 01:59:27 +03:00)\n"
     ]
    }
   ],
   "source": [
    "mlp_otbor_rmse.applymap(np.mean)"
   ]
  },
  {
   "cell_type": "code",
   "execution_count": 34,
   "metadata": {},
   "outputs": [
    {
     "data": {
      "text/html": [
       "<a href='mlp_otbor_rmse_2h.csv' target='_blank'>mlp_otbor_rmse_2h.csv</a><br>"
      ],
      "text/plain": [
       "/home/roman/Projects/Cosmos/GPU_features_selection_exps/mlp_otbor_rmse_2h.csv"
      ]
     },
     "execution_count": 34,
     "metadata": {},
     "output_type": "execute_result"
    },
    {
     "name": "stdout",
     "output_type": "stream",
     "text": [
      "time: 2.36 ms (started: 2022-02-27 01:59:27 +03:00)\n"
     ]
    }
   ],
   "source": [
    "from IPython.display import FileLink\n",
    "FileLink(f'mlp_otbor_rmse_{fc_hours}h.csv')"
   ]
  },
  {
   "cell_type": "code",
   "execution_count": 35,
   "metadata": {},
   "outputs": [
    {
     "data": {
      "image/png": "[encoded data removed]",
      "text/plain": [
       "<Figure size 1152x648 with 1 Axes>"
      ]
     },
     "metadata": {
      "needs_background": "light"
     },
     "output_type": "display_data"
    },
    {
     "name": "stdout",
     "output_type": "stream",
     "text": [
      "time: 180 ms (started: 2022-02-27 01:59:27 +03:00)\n"
     ]
    }
   ],
   "source": [
    "ax = mlp_otbor_rmse.applymap(np.mean).plot(figsize=(16,9))\n",
    "# ax.get_figure().savefig('mlp_otbor_rmse_1h_committee.png')"
   ]
  },
  {
   "cell_type": "code",
   "execution_count": 36,
   "metadata": {},
   "outputs": [
    {
     "data": {
      "text/html": [
       "<a href='mlp_otbor_r2_2h.csv' target='_blank'>mlp_otbor_r2_2h.csv</a><br>"
      ],
      "text/plain": [
       "/home/roman/Projects/Cosmos/GPU_features_selection_exps/mlp_otbor_r2_2h.csv"
      ]
     },
     "execution_count": 36,
     "metadata": {},
     "output_type": "execute_result"
    },
    {
     "name": "stdout",
     "output_type": "stream",
     "text": [
      "time: 4.99 ms (started: 2022-02-27 01:59:27 +03:00)\n"
     ]
    }
   ],
   "source": [
    "mlp_otbor_r2 = pd.DataFrame({'trn_r2':trn_r2,'tst_r2':tst_r2})\n",
    "mlp_otbor_r2.index = range(3, 32)\n",
    "mlp_otbor_r2.to_csv(f'mlp_otbor_r2_{fc_hours}h.csv')\n",
    "FileLink(f'mlp_otbor_r2_{fc_hours}h.csv')"
   ]
  },
  {
   "cell_type": "code",
   "execution_count": 37,
   "metadata": {},
   "outputs": [
    {
     "data": {
      "text/html": [
       "<div>\n",
       "<style scoped>\n",
       "    .dataframe tbody tr th:only-of-type {\n",
       "        vertical-align: middle;\n",
       "    }\n",
       "\n",
       "    .dataframe tbody tr th {\n",
       "        vertical-align: top;\n",
       "    }\n",
       "\n",
       "    .dataframe thead th {\n",
       "        text-align: right;\n",
       "    }\n",
       "</style>\n",
       "<table border=\"1\" class=\"dataframe\">\n",
       "  <thead>\n",
       "    <tr style=\"text-align: right;\">\n",
       "      <th></th>\n",
       "      <th>trn_r2</th>\n",
       "      <th>tst_r2</th>\n",
       "    </tr>\n",
       "  </thead>\n",
       "  <tbody>\n",
       "    <tr>\n",
       "      <th>3</th>\n",
       "      <td>0.910895</td>\n",
       "      <td>0.910895</td>\n",
       "    </tr>\n",
       "    <tr>\n",
       "      <th>4</th>\n",
       "      <td>0.915875</td>\n",
       "      <td>0.915875</td>\n",
       "    </tr>\n",
       "    <tr>\n",
       "      <th>5</th>\n",
       "      <td>0.915887</td>\n",
       "      <td>0.915887</td>\n",
       "    </tr>\n",
       "    <tr>\n",
       "      <th>6</th>\n",
       "      <td>0.916727</td>\n",
       "      <td>0.916727</td>\n",
       "    </tr>\n",
       "    <tr>\n",
       "      <th>7</th>\n",
       "      <td>0.917901</td>\n",
       "      <td>0.917901</td>\n",
       "    </tr>\n",
       "    <tr>\n",
       "      <th>8</th>\n",
       "      <td>0.922146</td>\n",
       "      <td>0.922146</td>\n",
       "    </tr>\n",
       "    <tr>\n",
       "      <th>9</th>\n",
       "      <td>0.921419</td>\n",
       "      <td>0.921419</td>\n",
       "    </tr>\n",
       "    <tr>\n",
       "      <th>10</th>\n",
       "      <td>0.925000</td>\n",
       "      <td>0.925000</td>\n",
       "    </tr>\n",
       "    <tr>\n",
       "      <th>11</th>\n",
       "      <td>0.925598</td>\n",
       "      <td>0.925598</td>\n",
       "    </tr>\n",
       "    <tr>\n",
       "      <th>12</th>\n",
       "      <td>0.927214</td>\n",
       "      <td>0.927214</td>\n",
       "    </tr>\n",
       "    <tr>\n",
       "      <th>13</th>\n",
       "      <td>0.926910</td>\n",
       "      <td>0.926910</td>\n",
       "    </tr>\n",
       "    <tr>\n",
       "      <th>14</th>\n",
       "      <td>0.926860</td>\n",
       "      <td>0.926860</td>\n",
       "    </tr>\n",
       "    <tr>\n",
       "      <th>15</th>\n",
       "      <td>0.926788</td>\n",
       "      <td>0.926788</td>\n",
       "    </tr>\n",
       "    <tr>\n",
       "      <th>16</th>\n",
       "      <td>0.930829</td>\n",
       "      <td>0.930829</td>\n",
       "    </tr>\n",
       "    <tr>\n",
       "      <th>17</th>\n",
       "      <td>0.930997</td>\n",
       "      <td>0.930997</td>\n",
       "    </tr>\n",
       "    <tr>\n",
       "      <th>18</th>\n",
       "      <td>0.931201</td>\n",
       "      <td>0.931201</td>\n",
       "    </tr>\n",
       "    <tr>\n",
       "      <th>19</th>\n",
       "      <td>0.930616</td>\n",
       "      <td>0.930616</td>\n",
       "    </tr>\n",
       "    <tr>\n",
       "      <th>20</th>\n",
       "      <td>0.930113</td>\n",
       "      <td>0.930113</td>\n",
       "    </tr>\n",
       "    <tr>\n",
       "      <th>21</th>\n",
       "      <td>0.930381</td>\n",
       "      <td>0.930381</td>\n",
       "    </tr>\n",
       "    <tr>\n",
       "      <th>22</th>\n",
       "      <td>0.928463</td>\n",
       "      <td>0.928463</td>\n",
       "    </tr>\n",
       "    <tr>\n",
       "      <th>23</th>\n",
       "      <td>0.928712</td>\n",
       "      <td>0.928712</td>\n",
       "    </tr>\n",
       "    <tr>\n",
       "      <th>24</th>\n",
       "      <td>0.928541</td>\n",
       "      <td>0.928541</td>\n",
       "    </tr>\n",
       "    <tr>\n",
       "      <th>25</th>\n",
       "      <td>0.928474</td>\n",
       "      <td>0.928474</td>\n",
       "    </tr>\n",
       "    <tr>\n",
       "      <th>26</th>\n",
       "      <td>0.929497</td>\n",
       "      <td>0.929497</td>\n",
       "    </tr>\n",
       "    <tr>\n",
       "      <th>27</th>\n",
       "      <td>0.929268</td>\n",
       "      <td>0.929268</td>\n",
       "    </tr>\n",
       "    <tr>\n",
       "      <th>28</th>\n",
       "      <td>0.928549</td>\n",
       "      <td>0.928549</td>\n",
       "    </tr>\n",
       "    <tr>\n",
       "      <th>29</th>\n",
       "      <td>0.928870</td>\n",
       "      <td>0.928870</td>\n",
       "    </tr>\n",
       "    <tr>\n",
       "      <th>30</th>\n",
       "      <td>0.929983</td>\n",
       "      <td>0.929983</td>\n",
       "    </tr>\n",
       "    <tr>\n",
       "      <th>31</th>\n",
       "      <td>0.929086</td>\n",
       "      <td>0.929086</td>\n",
       "    </tr>\n",
       "  </tbody>\n",
       "</table>\n",
       "</div>"
      ],
      "text/plain": [
       "      trn_r2    tst_r2\n",
       "3   0.910895  0.910895\n",
       "4   0.915875  0.915875\n",
       "5   0.915887  0.915887\n",
       "6   0.916727  0.916727\n",
       "7   0.917901  0.917901\n",
       "8   0.922146  0.922146\n",
       "9   0.921419  0.921419\n",
       "10  0.925000  0.925000\n",
       "11  0.925598  0.925598\n",
       "12  0.927214  0.927214\n",
       "13  0.926910  0.926910\n",
       "14  0.926860  0.926860\n",
       "15  0.926788  0.926788\n",
       "16  0.930829  0.930829\n",
       "17  0.930997  0.930997\n",
       "18  0.931201  0.931201\n",
       "19  0.930616  0.930616\n",
       "20  0.930113  0.930113\n",
       "21  0.930381  0.930381\n",
       "22  0.928463  0.928463\n",
       "23  0.928712  0.928712\n",
       "24  0.928541  0.928541\n",
       "25  0.928474  0.928474\n",
       "26  0.929497  0.929497\n",
       "27  0.929268  0.929268\n",
       "28  0.928549  0.928549\n",
       "29  0.928870  0.928870\n",
       "30  0.929983  0.929983\n",
       "31  0.929086  0.929086"
      ]
     },
     "execution_count": 37,
     "metadata": {},
     "output_type": "execute_result"
    },
    {
     "name": "stdout",
     "output_type": "stream",
     "text": [
      "time: 11.6 ms (started: 2022-02-27 01:59:27 +03:00)\n"
     ]
    }
   ],
   "source": [
    "mlp_otbor_r2.applymap(np.mean)"
   ]
  },
  {
   "cell_type": "code",
   "execution_count": 38,
   "metadata": {},
   "outputs": [
    {
     "data": {
      "image/png": "[encoded data removed]",
      "text/plain": [
       "<Figure size 1152x648 with 1 Axes>"
      ]
     },
     "metadata": {
      "needs_background": "light"
     },
     "output_type": "display_data"
    },
    {
     "name": "stdout",
     "output_type": "stream",
     "text": [
      "time: 164 ms (started: 2022-02-27 01:59:27 +03:00)\n"
     ]
    }
   ],
   "source": [
    "ax = mlp_otbor_r2.applymap(np.mean).plot(figsize=(16,9))\n",
    "# ax.get_figure().savefig('mlp_otbor_r2_1h_committee.png')"
   ]
  },
  {
   "cell_type": "code",
   "execution_count": 39,
   "metadata": {},
   "outputs": [
    {
     "data": {
      "text/plain": [
       "'/home/roman/Projects/Cosmos/GPU_features_selection_exps/feature_selection_trn2016_GB_del_2h/ensembles'"
      ]
     },
     "execution_count": 39,
     "metadata": {},
     "output_type": "execute_result"
    },
    {
     "name": "stdout",
     "output_type": "stream",
     "text": [
      "time: 2.3 ms (started: 2022-02-27 01:59:27 +03:00)\n"
     ]
    }
   ],
   "source": [
    "emsembles_path"
   ]
  },
  {
   "cell_type": "code",
   "execution_count": 33,
   "metadata": {},
   "outputs": [
    {
     "name": "stdout",
     "output_type": "stream",
     "text": [
      "0.8899255518406106\n",
      "['Dst_-0', 'B_gsm_z_-0', 'SW_spd_-0', 'B_gsm_z_-3', 'B_gsm_z_-1', 'Dst_-21', 'H_den_SWP_-0', 'H_den_SWP_-2', 'Dst_-7', 'B_magn_-4', 'B_gsm_z_-2', 'H_den_SWP_-1', 'Dst_-5', 'Dst_-3', 'SW_spd_-1', 'B_magn_-0', 'Dst_-10', 'B_gsm_y_-8']\n",
      "time: 529 ms (started: 2022-02-27 15:12:32 +03:00)\n"
     ]
    }
   ],
   "source": [
    "model = joblib.load(f'{emsembles_path}/mlp_model_18')\n",
    "\n",
    "\n",
    "f = ['doySin', 'hourSin', 'doyCos', 'hourCos'] + best_set_sorted[:18]\n",
    "\n",
    "\n",
    "print(model.score(X_tst_std[f], y_tst_std))\n",
    "print(best_set_sorted[:18])\n"
   ]
  },
  {
   "cell_type": "code",
   "execution_count": 41,
   "metadata": {},
   "outputs": [
    {
     "name": "stdout",
     "output_type": "stream",
     "text": [
      "time: 940 µs (started: 2022-02-27 01:59:28 +03:00)\n"
     ]
    }
   ],
   "source": [
    "tst_rmse = [sum(e)/len(e) for e in tst_rmse]"
   ]
  },
  {
   "cell_type": "code",
   "execution_count": 42,
   "metadata": {},
   "outputs": [
    {
     "data": {
      "text/plain": [
       "(18, 5.3192)"
      ]
     },
     "execution_count": 42,
     "metadata": {},
     "output_type": "execute_result"
    },
    {
     "name": "stdout",
     "output_type": "stream",
     "text": [
      "time: 4.62 ms (started: 2022-02-27 01:59:28 +03:00)\n"
     ]
    }
   ],
   "source": [
    "# минимум кривой rmse\n",
    "tst_rmse.index(min(tst_rmse))+3, round(min(tst_rmse), 4)"
   ]
  },
  {
   "cell_type": "code",
   "execution_count": 43,
   "metadata": {},
   "outputs": [
    {
     "name": "stdout",
     "output_type": "stream",
     "text": [
      "time: 1.05 ms (started: 2022-02-27 01:59:28 +03:00)\n"
     ]
    }
   ],
   "source": [
    "tst_r2 = [sum(e)/len(e) for e in tst_r2]"
   ]
  },
  {
   "cell_type": "code",
   "execution_count": 44,
   "metadata": {},
   "outputs": [
    {
     "data": {
      "text/plain": [
       "(18, 0.9312)"
      ]
     },
     "execution_count": 44,
     "metadata": {},
     "output_type": "execute_result"
    },
    {
     "name": "stdout",
     "output_type": "stream",
     "text": [
      "time: 4.54 ms (started: 2022-02-27 01:59:28 +03:00)\n"
     ]
    }
   ],
   "source": [
    "# максимум кривой r2\n",
    "tst_r2.index(max(tst_r2))+3, round(max(tst_r2), 4)"
   ]
  },
  {
   "cell_type": "code",
   "execution_count": 45,
   "metadata": {},
   "outputs": [
    {
     "data": {
      "text/plain": [
       "(22,\n",
       " ['doySin',\n",
       "  'hourSin',\n",
       "  'doyCos',\n",
       "  'hourCos',\n",
       "  'Dst_-0',\n",
       "  'B_gsm_z_-0',\n",
       "  'SW_spd_-0',\n",
       "  'B_gsm_z_-3',\n",
       "  'B_gsm_z_-1',\n",
       "  'Dst_-21',\n",
       "  'H_den_SWP_-0',\n",
       "  'H_den_SWP_-2',\n",
       "  'Dst_-7',\n",
       "  'B_magn_-4',\n",
       "  'B_gsm_z_-2',\n",
       "  'H_den_SWP_-1',\n",
       "  'Dst_-5',\n",
       "  'Dst_-3',\n",
       "  'SW_spd_-1',\n",
       "  'B_magn_-0',\n",
       "  'Dst_-10',\n",
       "  'B_gsm_y_-8'])"
      ]
     },
     "execution_count": 45,
     "metadata": {},
     "output_type": "execute_result"
    },
    {
     "name": "stdout",
     "output_type": "stream",
     "text": [
      "time: 4.87 ms (started: 2022-02-27 01:59:28 +03:00)\n"
     ]
    }
   ],
   "source": [
    "len(f), f"
   ]
  },
  {
   "cell_type": "markdown",
   "metadata": {},
   "source": [
    "Учим комитет mlp на полном наборе \n",
    "==="
   ]
  },
  {
   "cell_type": "code",
   "execution_count": 34,
   "metadata": {},
   "outputs": [
    {
     "name": "stdout",
     "output_type": "stream",
     "text": [
      "1\n",
      "time: 160 ms (started: 2022-02-27 15:12:32 +03:00)\n"
     ]
    }
   ],
   "source": [
    "if os.path.isfile(f'{emsembles_path}/regressor_full_committee.joblib'):\n",
    "    regressor_full = joblib.load(f'{emsembles_path}/regressor_full_committee.joblib')\n",
    "    print(1)\n",
    "else:\n",
    "    print(0)"
   ]
  },
  {
   "cell_type": "code",
   "execution_count": 35,
   "metadata": {},
   "outputs": [
    {
     "name": "stdout",
     "output_type": "stream",
     "text": [
      "time: 82.7 ms (started: 2022-02-27 15:12:32 +03:00)\n"
     ]
    }
   ],
   "source": [
    "if os.path.isfile(f'{emsembles_path}/regressor_full_committee.joblib'):\n",
    "    regressor_full = joblib.load(f'{emsembles_path}/regressor_full_committee.joblib')\n",
    "else:    \n",
    "    regressor_full = VotingRegressor([(\"0\", MLPRegressor(hidden_layer_sizes=(32,),\n",
    "                                                  solver='sgd',\n",
    "                                                  learning_rate_init=0.001,\n",
    "                                                  alpha=0.01,\n",
    "                                                  validation_fraction=0.2,\n",
    "                                                  max_iter=3000,\n",
    "                                                  n_iter_no_change=500,\n",
    "                        #                               verbose=True, \n",
    "                                                  early_stopping=True,\n",
    "                                                  activation='tanh')),\n",
    "                                     (\"1\", MLPRegressor(hidden_layer_sizes=(32,),\n",
    "                                                  solver='sgd',\n",
    "                                                  learning_rate_init=0.001,\n",
    "                                                  alpha=0.01,\n",
    "                                                  validation_fraction=0.2,\n",
    "                                                  max_iter=3000,\n",
    "                                                  n_iter_no_change=500,\n",
    "                        #                               verbose=True, \n",
    "                                                  early_stopping=True,\n",
    "                                                  activation='tanh')),\n",
    "                                     (\"2\", MLPRegressor(hidden_layer_sizes=(32,),\n",
    "                                                  solver='sgd',\n",
    "                                                  learning_rate_init=0.001,\n",
    "                                                  alpha=0.01,\n",
    "                                                  validation_fraction=0.2,\n",
    "                                                  max_iter=3000,\n",
    "                                                  n_iter_no_change=500,\n",
    "                        #                               verbose=True, \n",
    "                                                  early_stopping=True,\n",
    "                                                  activation='tanh')),\n",
    "                                     (\"3\", MLPRegressor(hidden_layer_sizes=(32,),\n",
    "                                                  solver='sgd',\n",
    "                                                  learning_rate_init=0.001,\n",
    "                                                  alpha=0.01,\n",
    "                                                  validation_fraction=0.2,\n",
    "                                                  max_iter=3000,\n",
    "                                                  n_iter_no_change=500,\n",
    "                        #                               verbose=True, \n",
    "                                                  early_stopping=True,\n",
    "                                                  activation='tanh')),\n",
    "                                     (\"4\", MLPRegressor(hidden_layer_sizes=(32,),\n",
    "                                                  solver='sgd',\n",
    "                                                  learning_rate_init=0.001,\n",
    "                                                  alpha=0.01,\n",
    "                                                  validation_fraction=0.2,\n",
    "                                                  max_iter=3000,\n",
    "                                                  n_iter_no_change=500,\n",
    "                        #                               verbose=True, \n",
    "                                                  early_stopping=True,\n",
    "                                                  activation='tanh'))])\n",
    "\n",
    "    X_trn_std, y_trn_std, X_tst_std, y_tst_std, in_, out_= trn_tst_scal(data_transformed, X.columns, [f'Dst_+{fc_hours}'], trn_cond, in_scaler, out_scaler)\n",
    "    regressor_full.fit(X_trn_std, y_trn_std)\n",
    "    joblib.dump(regressor_full, f'{emsembles_path}/regressor_full_committee.joblib')"
   ]
  },
  {
   "cell_type": "code",
   "execution_count": 36,
   "metadata": {},
   "outputs": [
    {
     "data": {
      "text/plain": [
       "LinearRegression()"
      ]
     },
     "execution_count": 36,
     "metadata": {},
     "output_type": "execute_result"
    },
    {
     "name": "stdout",
     "output_type": "stream",
     "text": [
      "time: 3.61 s (started: 2022-02-27 15:12:33 +03:00)\n"
     ]
    }
   ],
   "source": [
    "linreg_full = LinearRegression()\n",
    "linreg_best = LinearRegression()\n",
    "\n",
    "X_trn_std, y_trn_std, X_tst_std, y_tst_std, in_, out_= trn_tst_scal(data_transformed, X.columns, [fc_colname], trn_cond, in_scaler, out_scaler)\n",
    "\n",
    "linreg_full.fit(X_trn_std, y_trn_std)\n",
    "linreg_best.fit(X_trn_std[best_set], y_trn_std)"
   ]
  },
  {
   "cell_type": "markdown",
   "metadata": {},
   "source": [
    "Тривиальная модель (важен переданный набор данных (из-за кол-ва сэмплов) важен горизонт (на столько короче из-за сдвига  станет итоговый array\n",
    "==="
   ]
  },
  {
   "cell_type": "code",
   "execution_count": 37,
   "metadata": {},
   "outputs": [
    {
     "name": "stdout",
     "output_type": "stream",
     "text": [
      "time: 5.87 ms (started: 2022-02-27 15:12:36 +03:00)\n"
     ]
    }
   ],
   "source": [
    "def tr_model_1(df, horizont):\n",
    "    res = df['Dst_-0'].shift(horizont)\n",
    "    return res\n",
    "\n",
    "y_pred_triv = out_scaler.inverse_transform(tr_model_1(X_tst_std, fc_hours).dropna().to_frame())"
   ]
  },
  {
   "cell_type": "code",
   "execution_count": 38,
   "metadata": {},
   "outputs": [
    {
     "data": {
      "text/plain": [
       "array([[-13.],\n",
       "       [-14.],\n",
       "       [-16.],\n",
       "       ...,\n",
       "       [-26.],\n",
       "       [-23.],\n",
       "       [-19.]])"
      ]
     },
     "execution_count": 38,
     "metadata": {},
     "output_type": "execute_result"
    },
    {
     "name": "stdout",
     "output_type": "stream",
     "text": [
      "time: 5.05 ms (started: 2022-02-27 15:12:36 +03:00)\n"
     ]
    }
   ],
   "source": [
    "y_pred_triv"
   ]
  },
  {
   "cell_type": "code",
   "execution_count": 39,
   "metadata": {},
   "outputs": [
    {
     "data": {
      "text/plain": [
       "LinearRegression()"
      ]
     },
     "execution_count": 39,
     "metadata": {},
     "output_type": "execute_result"
    },
    {
     "name": "stdout",
     "output_type": "stream",
     "text": [
      "time: 6.29 ms (started: 2022-02-27 15:12:36 +03:00)\n"
     ]
    }
   ],
   "source": [
    "linreg_full"
   ]
  },
  {
   "cell_type": "code",
   "execution_count": 40,
   "metadata": {},
   "outputs": [
    {
     "name": "stdout",
     "output_type": "stream",
     "text": [
      "time: 723 µs (started: 2022-02-27 15:12:36 +03:00)\n"
     ]
    }
   ],
   "source": [
    "features = f"
   ]
  },
  {
   "cell_type": "code",
   "execution_count": null,
   "metadata": {},
   "outputs": [],
   "source": []
  },
  {
   "cell_type": "code",
   "execution_count": 41,
   "metadata": {
    "scrolled": false
   },
   "outputs": [
    {
     "data": {
      "text/html": [
       "<div>\n",
       "<style scoped>\n",
       "    .dataframe tbody tr th:only-of-type {\n",
       "        vertical-align: middle;\n",
       "    }\n",
       "\n",
       "    .dataframe tbody tr th {\n",
       "        vertical-align: top;\n",
       "    }\n",
       "\n",
       "    .dataframe thead th {\n",
       "        text-align: right;\n",
       "    }\n",
       "</style>\n",
       "<table border=\"1\" class=\"dataframe\">\n",
       "  <thead>\n",
       "    <tr style=\"text-align: right;\">\n",
       "      <th></th>\n",
       "      <th>Прогнозируемое значение</th>\n",
       "      <th>XGB на полном наборе</th>\n",
       "      <th>XGB на лучшем наборе</th>\n",
       "      <th>МСП полном наборе</th>\n",
       "      <th>МСП на лучшем наборе</th>\n",
       "      <th>Лин регрессия на полном наборе</th>\n",
       "      <th>Лин регрессия на лучшем наборе</th>\n",
       "      <th>Тривиальная модель</th>\n",
       "    </tr>\n",
       "    <tr>\n",
       "      <th>timestamp</th>\n",
       "      <th></th>\n",
       "      <th></th>\n",
       "      <th></th>\n",
       "      <th></th>\n",
       "      <th></th>\n",
       "      <th></th>\n",
       "      <th></th>\n",
       "      <th></th>\n",
       "    </tr>\n",
       "  </thead>\n",
       "  <tbody>\n",
       "    <tr>\n",
       "      <th>2017-01-01 00:00:00</th>\n",
       "      <td>-16.0</td>\n",
       "      <td>-17.431723</td>\n",
       "      <td>-17.195768</td>\n",
       "      <td>-18.532939</td>\n",
       "      <td>-18.160708</td>\n",
       "      <td>-17.367587</td>\n",
       "      <td>-18.349275</td>\n",
       "      <td>-13.0</td>\n",
       "    </tr>\n",
       "    <tr>\n",
       "      <th>2017-01-01 01:00:00</th>\n",
       "      <td>-24.0</td>\n",
       "      <td>-18.075275</td>\n",
       "      <td>-18.385174</td>\n",
       "      <td>-18.755722</td>\n",
       "      <td>-18.357195</td>\n",
       "      <td>-16.709338</td>\n",
       "      <td>-17.398510</td>\n",
       "      <td>-14.0</td>\n",
       "    </tr>\n",
       "    <tr>\n",
       "      <th>2017-01-01 02:00:00</th>\n",
       "      <td>-30.0</td>\n",
       "      <td>-22.153381</td>\n",
       "      <td>-23.716503</td>\n",
       "      <td>-21.907347</td>\n",
       "      <td>-20.998068</td>\n",
       "      <td>-20.446096</td>\n",
       "      <td>-20.957087</td>\n",
       "      <td>-16.0</td>\n",
       "    </tr>\n",
       "    <tr>\n",
       "      <th>2017-01-01 03:00:00</th>\n",
       "      <td>-31.0</td>\n",
       "      <td>-29.212790</td>\n",
       "      <td>-30.268332</td>\n",
       "      <td>-25.577016</td>\n",
       "      <td>-27.139014</td>\n",
       "      <td>-28.160951</td>\n",
       "      <td>-28.065720</td>\n",
       "      <td>-24.0</td>\n",
       "    </tr>\n",
       "    <tr>\n",
       "      <th>2017-01-01 04:00:00</th>\n",
       "      <td>-29.0</td>\n",
       "      <td>-32.298927</td>\n",
       "      <td>-32.618099</td>\n",
       "      <td>-29.884185</td>\n",
       "      <td>-30.442944</td>\n",
       "      <td>-30.654965</td>\n",
       "      <td>-30.912798</td>\n",
       "      <td>-30.0</td>\n",
       "    </tr>\n",
       "    <tr>\n",
       "      <th>...</th>\n",
       "      <td>...</td>\n",
       "      <td>...</td>\n",
       "      <td>...</td>\n",
       "      <td>...</td>\n",
       "      <td>...</td>\n",
       "      <td>...</td>\n",
       "      <td>...</td>\n",
       "      <td>...</td>\n",
       "    </tr>\n",
       "    <tr>\n",
       "      <th>2022-01-09 11:00:00</th>\n",
       "      <td>-26.0</td>\n",
       "      <td>-17.842789</td>\n",
       "      <td>-18.004061</td>\n",
       "      <td>-15.750279</td>\n",
       "      <td>-17.298012</td>\n",
       "      <td>-15.035478</td>\n",
       "      <td>-16.000715</td>\n",
       "      <td>-21.0</td>\n",
       "    </tr>\n",
       "    <tr>\n",
       "      <th>2022-01-09 12:00:00</th>\n",
       "      <td>-23.0</td>\n",
       "      <td>-22.226753</td>\n",
       "      <td>-22.551504</td>\n",
       "      <td>-18.949226</td>\n",
       "      <td>-21.335603</td>\n",
       "      <td>-21.172475</td>\n",
       "      <td>-21.224171</td>\n",
       "      <td>-25.0</td>\n",
       "    </tr>\n",
       "    <tr>\n",
       "      <th>2022-01-09 13:00:00</th>\n",
       "      <td>-19.0</td>\n",
       "      <td>-22.070919</td>\n",
       "      <td>-22.395130</td>\n",
       "      <td>-19.888352</td>\n",
       "      <td>-21.101516</td>\n",
       "      <td>-20.716468</td>\n",
       "      <td>-20.283543</td>\n",
       "      <td>-26.0</td>\n",
       "    </tr>\n",
       "    <tr>\n",
       "      <th>2022-01-09 14:00:00</th>\n",
       "      <td>-15.0</td>\n",
       "      <td>-17.812157</td>\n",
       "      <td>-18.736055</td>\n",
       "      <td>-17.374253</td>\n",
       "      <td>-17.799432</td>\n",
       "      <td>-15.326628</td>\n",
       "      <td>-15.018802</td>\n",
       "      <td>-23.0</td>\n",
       "    </tr>\n",
       "    <tr>\n",
       "      <th>2022-01-09 15:00:00</th>\n",
       "      <td>-10.0</td>\n",
       "      <td>-14.429868</td>\n",
       "      <td>-14.921515</td>\n",
       "      <td>-15.367206</td>\n",
       "      <td>-13.963451</td>\n",
       "      <td>-13.681690</td>\n",
       "      <td>-10.749341</td>\n",
       "      <td>-19.0</td>\n",
       "    </tr>\n",
       "  </tbody>\n",
       "</table>\n",
       "<p>43928 rows × 8 columns</p>\n",
       "</div>"
      ],
      "text/plain": [
       "                     Прогнозируемое значение  XGB на полном наборе  \\\n",
       "timestamp                                                            \n",
       "2017-01-01 00:00:00                    -16.0            -17.431723   \n",
       "2017-01-01 01:00:00                    -24.0            -18.075275   \n",
       "2017-01-01 02:00:00                    -30.0            -22.153381   \n",
       "2017-01-01 03:00:00                    -31.0            -29.212790   \n",
       "2017-01-01 04:00:00                    -29.0            -32.298927   \n",
       "...                                      ...                   ...   \n",
       "2022-01-09 11:00:00                    -26.0            -17.842789   \n",
       "2022-01-09 12:00:00                    -23.0            -22.226753   \n",
       "2022-01-09 13:00:00                    -19.0            -22.070919   \n",
       "2022-01-09 14:00:00                    -15.0            -17.812157   \n",
       "2022-01-09 15:00:00                    -10.0            -14.429868   \n",
       "\n",
       "                     XGB на лучшем наборе  МСП полном наборе   \\\n",
       "timestamp                                                       \n",
       "2017-01-01 00:00:00            -17.195768          -18.532939   \n",
       "2017-01-01 01:00:00            -18.385174          -18.755722   \n",
       "2017-01-01 02:00:00            -23.716503          -21.907347   \n",
       "2017-01-01 03:00:00            -30.268332          -25.577016   \n",
       "2017-01-01 04:00:00            -32.618099          -29.884185   \n",
       "...                                   ...                 ...   \n",
       "2022-01-09 11:00:00            -18.004061          -15.750279   \n",
       "2022-01-09 12:00:00            -22.551504          -18.949226   \n",
       "2022-01-09 13:00:00            -22.395130          -19.888352   \n",
       "2022-01-09 14:00:00            -18.736055          -17.374253   \n",
       "2022-01-09 15:00:00            -14.921515          -15.367206   \n",
       "\n",
       "                     МСП на лучшем наборе   Лин регрессия на полном наборе  \\\n",
       "timestamp                                                                    \n",
       "2017-01-01 00:00:00             -18.160708                      -17.367587   \n",
       "2017-01-01 01:00:00             -18.357195                      -16.709338   \n",
       "2017-01-01 02:00:00             -20.998068                      -20.446096   \n",
       "2017-01-01 03:00:00             -27.139014                      -28.160951   \n",
       "2017-01-01 04:00:00             -30.442944                      -30.654965   \n",
       "...                                    ...                             ...   \n",
       "2022-01-09 11:00:00             -17.298012                      -15.035478   \n",
       "2022-01-09 12:00:00             -21.335603                      -21.172475   \n",
       "2022-01-09 13:00:00             -21.101516                      -20.716468   \n",
       "2022-01-09 14:00:00             -17.799432                      -15.326628   \n",
       "2022-01-09 15:00:00             -13.963451                      -13.681690   \n",
       "\n",
       "                     Лин регрессия на лучшем наборе  Тривиальная модель  \n",
       "timestamp                                                                \n",
       "2017-01-01 00:00:00                      -18.349275               -13.0  \n",
       "2017-01-01 01:00:00                      -17.398510               -14.0  \n",
       "2017-01-01 02:00:00                      -20.957087               -16.0  \n",
       "2017-01-01 03:00:00                      -28.065720               -24.0  \n",
       "2017-01-01 04:00:00                      -30.912798               -30.0  \n",
       "...                                             ...                 ...  \n",
       "2022-01-09 11:00:00                      -16.000715               -21.0  \n",
       "2022-01-09 12:00:00                      -21.224171               -25.0  \n",
       "2022-01-09 13:00:00                      -20.283543               -26.0  \n",
       "2022-01-09 14:00:00                      -15.018802               -23.0  \n",
       "2022-01-09 15:00:00                      -10.749341               -19.0  \n",
       "\n",
       "[43928 rows x 8 columns]"
      ]
     },
     "execution_count": 41,
     "metadata": {},
     "output_type": "execute_result"
    },
    {
     "name": "stdout",
     "output_type": "stream",
     "text": [
      "time: 2.17 s (started: 2022-02-27 15:12:36 +03:00)\n"
     ]
    }
   ],
   "source": [
    "y_true = out_scaler.inverse_transform(y_tst_std).reshape(len(y_tst_std))\n",
    "y_mlp_full = out_scaler.inverse_transform(regressor_full.predict(X_tst_std)[:, None]).reshape(len(y_tst_std))\n",
    "y_mlp_best = out_scaler.inverse_transform(model.predict(X_tst_std[features])[:, None]).reshape(len(y_tst_std))\n",
    "\n",
    "y_xgb_full = out_scaler.inverse_transform(xgb_full.predict(X_tst_std)[:, None]).reshape(len(y_tst_std))\n",
    "y_xgb_best = out_scaler.inverse_transform(xgb_best.predict(X_tst_std[best_set])[:, None]).reshape(len(y_tst_std))\n",
    "\n",
    "y_linreg_full = out_scaler.inverse_transform(linreg_full.predict(X_tst_std)).reshape(len(y_tst_std))\n",
    "y_linreg_best = out_scaler.inverse_transform(linreg_best.predict(X_tst_std[best_set])).reshape(len(y_tst_std))\n",
    "\n",
    "y_pred_triv = out_scaler.inverse_transform(tr_model_1(X_tst_std, fc_hours).dropna().to_frame())\n",
    "\n",
    "df_tst = pd.DataFrame({'Прогнозируемое значение':y_true,\n",
    "                       'XGB на полном наборе':y_xgb_full,\n",
    "                       'XGB на лучшем наборе':y_xgb_best,\n",
    "                       'МСП полном наборе ':y_mlp_full,\n",
    "                       'МСП на лучшем наборе ':y_mlp_best,\n",
    "                       'Лин регрессия на полном наборе':y_linreg_full,\n",
    "                       'Лин регрессия на лучшем наборе':y_linreg_best})\n",
    "df_tst.index = X_tst_std.index\n",
    "df_tst = df_tst[:-fc_hours]\n",
    "df_tst['Тривиальная модель'] = y_pred_triv\n",
    "df_tst.to_csv(f'stats_tst_{fc_hours}h.csv')\n",
    "df_tst"
   ]
  },
  {
   "cell_type": "code",
   "execution_count": 42,
   "metadata": {},
   "outputs": [
    {
     "data": {
      "text/html": [
       "<div>\n",
       "<style scoped>\n",
       "    .dataframe tbody tr th:only-of-type {\n",
       "        vertical-align: middle;\n",
       "    }\n",
       "\n",
       "    .dataframe tbody tr th {\n",
       "        vertical-align: top;\n",
       "    }\n",
       "\n",
       "    .dataframe thead th {\n",
       "        text-align: right;\n",
       "    }\n",
       "</style>\n",
       "<table border=\"1\" class=\"dataframe\">\n",
       "  <thead>\n",
       "    <tr style=\"text-align: right;\">\n",
       "      <th></th>\n",
       "      <th>Прогнозируемое значение</th>\n",
       "      <th>XGB на полном наборе</th>\n",
       "      <th>XGB на лучшем наборе</th>\n",
       "      <th>МСП полном наборе</th>\n",
       "      <th>МСП на лучшем наборе</th>\n",
       "      <th>Лин регрессия на полном наборе</th>\n",
       "      <th>Лин регрессия на лучшем наборе</th>\n",
       "      <th>Тривиальная модель</th>\n",
       "    </tr>\n",
       "    <tr>\n",
       "      <th>timestamp</th>\n",
       "      <th></th>\n",
       "      <th></th>\n",
       "      <th></th>\n",
       "      <th></th>\n",
       "      <th></th>\n",
       "      <th></th>\n",
       "      <th></th>\n",
       "      <th></th>\n",
       "    </tr>\n",
       "  </thead>\n",
       "  <tbody>\n",
       "    <tr>\n",
       "      <th>1997-10-21 23:00:00</th>\n",
       "      <td>2.0</td>\n",
       "      <td>5.048874</td>\n",
       "      <td>5.218021</td>\n",
       "      <td>7.019325</td>\n",
       "      <td>7.110214</td>\n",
       "      <td>7.472847</td>\n",
       "      <td>7.532379</td>\n",
       "      <td>3.0</td>\n",
       "    </tr>\n",
       "    <tr>\n",
       "      <th>1997-10-22 00:00:00</th>\n",
       "      <td>-4.0</td>\n",
       "      <td>-0.327416</td>\n",
       "      <td>0.155064</td>\n",
       "      <td>-3.750217</td>\n",
       "      <td>-4.228643</td>\n",
       "      <td>-7.068757</td>\n",
       "      <td>-6.638396</td>\n",
       "      <td>2.0</td>\n",
       "    </tr>\n",
       "    <tr>\n",
       "      <th>1997-10-22 01:00:00</th>\n",
       "      <td>-7.0</td>\n",
       "      <td>-7.977327</td>\n",
       "      <td>-7.208416</td>\n",
       "      <td>-8.668381</td>\n",
       "      <td>-9.707480</td>\n",
       "      <td>-9.831022</td>\n",
       "      <td>-9.495052</td>\n",
       "      <td>2.0</td>\n",
       "    </tr>\n",
       "    <tr>\n",
       "      <th>1997-10-22 02:00:00</th>\n",
       "      <td>-3.0</td>\n",
       "      <td>-8.636997</td>\n",
       "      <td>-7.663008</td>\n",
       "      <td>-11.299638</td>\n",
       "      <td>-12.177936</td>\n",
       "      <td>-11.645845</td>\n",
       "      <td>-11.758526</td>\n",
       "      <td>-4.0</td>\n",
       "    </tr>\n",
       "    <tr>\n",
       "      <th>1997-10-22 03:00:00</th>\n",
       "      <td>-1.0</td>\n",
       "      <td>-1.799076</td>\n",
       "      <td>-1.914835</td>\n",
       "      <td>-3.976255</td>\n",
       "      <td>-5.124754</td>\n",
       "      <td>-2.084693</td>\n",
       "      <td>-2.828932</td>\n",
       "      <td>-7.0</td>\n",
       "    </tr>\n",
       "    <tr>\n",
       "      <th>...</th>\n",
       "      <td>...</td>\n",
       "      <td>...</td>\n",
       "      <td>...</td>\n",
       "      <td>...</td>\n",
       "      <td>...</td>\n",
       "      <td>...</td>\n",
       "      <td>...</td>\n",
       "      <td>...</td>\n",
       "    </tr>\n",
       "    <tr>\n",
       "      <th>2016-12-31 17:00:00</th>\n",
       "      <td>-19.0</td>\n",
       "      <td>-15.952205</td>\n",
       "      <td>-13.672744</td>\n",
       "      <td>-23.192456</td>\n",
       "      <td>-21.372964</td>\n",
       "      <td>-22.472503</td>\n",
       "      <td>-22.530141</td>\n",
       "      <td>-16.0</td>\n",
       "    </tr>\n",
       "    <tr>\n",
       "      <th>2016-12-31 18:00:00</th>\n",
       "      <td>-25.0</td>\n",
       "      <td>-18.913013</td>\n",
       "      <td>-17.755287</td>\n",
       "      <td>-25.662403</td>\n",
       "      <td>-21.524883</td>\n",
       "      <td>-23.768103</td>\n",
       "      <td>-22.589144</td>\n",
       "      <td>-16.0</td>\n",
       "    </tr>\n",
       "    <tr>\n",
       "      <th>2016-12-31 19:00:00</th>\n",
       "      <td>-24.0</td>\n",
       "      <td>-21.113417</td>\n",
       "      <td>-21.345596</td>\n",
       "      <td>-24.380549</td>\n",
       "      <td>-20.932181</td>\n",
       "      <td>-23.026304</td>\n",
       "      <td>-22.520254</td>\n",
       "      <td>-19.0</td>\n",
       "    </tr>\n",
       "    <tr>\n",
       "      <th>2016-12-31 20:00:00</th>\n",
       "      <td>-13.0</td>\n",
       "      <td>-20.726280</td>\n",
       "      <td>-22.262516</td>\n",
       "      <td>-22.355669</td>\n",
       "      <td>-20.578258</td>\n",
       "      <td>-23.615571</td>\n",
       "      <td>-23.387847</td>\n",
       "      <td>-25.0</td>\n",
       "    </tr>\n",
       "    <tr>\n",
       "      <th>2016-12-31 21:00:00</th>\n",
       "      <td>-10.0</td>\n",
       "      <td>-20.463640</td>\n",
       "      <td>-19.999804</td>\n",
       "      <td>-19.955034</td>\n",
       "      <td>-17.214035</td>\n",
       "      <td>-18.252263</td>\n",
       "      <td>-17.945772</td>\n",
       "      <td>-24.0</td>\n",
       "    </tr>\n",
       "  </tbody>\n",
       "</table>\n",
       "<p>166522 rows × 8 columns</p>\n",
       "</div>"
      ],
      "text/plain": [
       "                     Прогнозируемое значение  XGB на полном наборе  \\\n",
       "timestamp                                                            \n",
       "1997-10-21 23:00:00                      2.0              5.048874   \n",
       "1997-10-22 00:00:00                     -4.0             -0.327416   \n",
       "1997-10-22 01:00:00                     -7.0             -7.977327   \n",
       "1997-10-22 02:00:00                     -3.0             -8.636997   \n",
       "1997-10-22 03:00:00                     -1.0             -1.799076   \n",
       "...                                      ...                   ...   \n",
       "2016-12-31 17:00:00                    -19.0            -15.952205   \n",
       "2016-12-31 18:00:00                    -25.0            -18.913013   \n",
       "2016-12-31 19:00:00                    -24.0            -21.113417   \n",
       "2016-12-31 20:00:00                    -13.0            -20.726280   \n",
       "2016-12-31 21:00:00                    -10.0            -20.463640   \n",
       "\n",
       "                     XGB на лучшем наборе  МСП полном наборе   \\\n",
       "timestamp                                                       \n",
       "1997-10-21 23:00:00              5.218021            7.019325   \n",
       "1997-10-22 00:00:00              0.155064           -3.750217   \n",
       "1997-10-22 01:00:00             -7.208416           -8.668381   \n",
       "1997-10-22 02:00:00             -7.663008          -11.299638   \n",
       "1997-10-22 03:00:00             -1.914835           -3.976255   \n",
       "...                                   ...                 ...   \n",
       "2016-12-31 17:00:00            -13.672744          -23.192456   \n",
       "2016-12-31 18:00:00            -17.755287          -25.662403   \n",
       "2016-12-31 19:00:00            -21.345596          -24.380549   \n",
       "2016-12-31 20:00:00            -22.262516          -22.355669   \n",
       "2016-12-31 21:00:00            -19.999804          -19.955034   \n",
       "\n",
       "                     МСП на лучшем наборе   Лин регрессия на полном наборе  \\\n",
       "timestamp                                                                    \n",
       "1997-10-21 23:00:00               7.110214                        7.472847   \n",
       "1997-10-22 00:00:00              -4.228643                       -7.068757   \n",
       "1997-10-22 01:00:00              -9.707480                       -9.831022   \n",
       "1997-10-22 02:00:00             -12.177936                      -11.645845   \n",
       "1997-10-22 03:00:00              -5.124754                       -2.084693   \n",
       "...                                    ...                             ...   \n",
       "2016-12-31 17:00:00             -21.372964                      -22.472503   \n",
       "2016-12-31 18:00:00             -21.524883                      -23.768103   \n",
       "2016-12-31 19:00:00             -20.932181                      -23.026304   \n",
       "2016-12-31 20:00:00             -20.578258                      -23.615571   \n",
       "2016-12-31 21:00:00             -17.214035                      -18.252263   \n",
       "\n",
       "                     Лин регрессия на лучшем наборе  Тривиальная модель  \n",
       "timestamp                                                                \n",
       "1997-10-21 23:00:00                        7.532379                 3.0  \n",
       "1997-10-22 00:00:00                       -6.638396                 2.0  \n",
       "1997-10-22 01:00:00                       -9.495052                 2.0  \n",
       "1997-10-22 02:00:00                      -11.758526                -4.0  \n",
       "1997-10-22 03:00:00                       -2.828932                -7.0  \n",
       "...                                             ...                 ...  \n",
       "2016-12-31 17:00:00                      -22.530141               -16.0  \n",
       "2016-12-31 18:00:00                      -22.589144               -16.0  \n",
       "2016-12-31 19:00:00                      -22.520254               -19.0  \n",
       "2016-12-31 20:00:00                      -23.387847               -25.0  \n",
       "2016-12-31 21:00:00                      -17.945772               -24.0  \n",
       "\n",
       "[166522 rows x 8 columns]"
      ]
     },
     "execution_count": 42,
     "metadata": {},
     "output_type": "execute_result"
    },
    {
     "name": "stdout",
     "output_type": "stream",
     "text": [
      "time: 6.72 s (started: 2022-02-27 15:12:38 +03:00)\n"
     ]
    }
   ],
   "source": [
    "y_true = out_scaler.inverse_transform(y_trn_std).reshape(len(y_trn_std))\n",
    "\n",
    "y_mlp_full = out_scaler.inverse_transform(regressor_full.predict(X_trn_std)[:, None]).reshape(len(y_trn_std))\n",
    "y_mlp_best = out_scaler.inverse_transform(model.predict(X_trn_std[features])[:, None]).reshape(len(y_trn_std))\n",
    "\n",
    "y_xgb_full = out_scaler.inverse_transform(xgb_full.predict(X_trn_std)[:, None]).reshape(len(y_trn_std))\n",
    "y_xgb_best = out_scaler.inverse_transform(xgb_best.predict(X_trn_std[best_set])[:, None]).reshape(len(y_trn_std))\n",
    "\n",
    "y_linreg_full = out_scaler.inverse_transform(linreg_full.predict(X_trn_std)).reshape(len(y_trn_std))\n",
    "y_linreg_best = out_scaler.inverse_transform(linreg_best.predict(X_trn_std[best_set])).reshape(len(y_trn_std))\n",
    "\n",
    "y_pred_triv = out_scaler.inverse_transform(tr_model_1(X_trn_std, fc_hours).dropna().to_frame())\n",
    "\n",
    "df_trn = pd.DataFrame({'Прогнозируемое значение':y_true,\n",
    "                       'XGB на полном наборе':y_xgb_full,\n",
    "                       'XGB на лучшем наборе':y_xgb_best,\n",
    "                       'МСП полном наборе ':y_mlp_full,\n",
    "                       'МСП на лучшем наборе ':y_mlp_best,\n",
    "                       'Лин регрессия на полном наборе':y_linreg_full,\n",
    "                       'Лин регрессия на лучшем наборе':y_linreg_best})\n",
    "df_trn.index = X_trn_std.index\n",
    "df_trn = df_trn[:-fc_hours]\n",
    "df_trn['Тривиальная модель'] = y_pred_triv\n",
    "df_trn.to_csv(f'stats_trn_{fc_hours}h.csv')\n",
    "df_trn"
   ]
  },
  {
   "cell_type": "code",
   "execution_count": 43,
   "metadata": {},
   "outputs": [
    {
     "name": "stdout",
     "output_type": "stream",
     "text": [
      "XGB на полном наборе R2_trn =  0.963\n",
      "XGB на полном наборе R2_tst =  0.9076\n",
      "XGB на полном наборе RMSE_trn =  3.8988\n",
      "XGB на полном наборе RMSE_tst =  3.8103 \n",
      "\n",
      "XGB на лучшем наборе R2_trn =  0.9602\n",
      "XGB на лучшем наборе R2_tst =  0.9059\n",
      "XGB на лучшем наборе RMSE_trn =  4.048\n",
      "XGB на лучшем наборе RMSE_tst =  3.8445 \n",
      "\n",
      "МСП полном наборе  R2_trn =  0.9312\n",
      "МСП полном наборе  R2_tst =  0.8848\n",
      "МСП полном наборе  RMSE_trn =  5.3199\n",
      "МСП полном наборе  RMSE_tst =  4.2538 \n",
      "\n",
      "МСП на лучшем наборе  R2_trn =  0.9324\n",
      "МСП на лучшем наборе  R2_tst =  0.8899\n",
      "МСП на лучшем наборе  RMSE_trn =  5.2724\n",
      "МСП на лучшем наборе  RMSE_tst =  4.1578 \n",
      "\n",
      "Лин регрессия на полном наборе R2_trn =  0.9336\n",
      "Лин регрессия на полном наборе R2_tst =  0.8911\n",
      "Лин регрессия на полном наборе RMSE_trn =  5.2263\n",
      "Лин регрессия на полном наборе RMSE_tst =  4.1358 \n",
      "\n",
      "Лин регрессия на лучшем наборе R2_trn =  0.932\n",
      "Лин регрессия на лучшем наборе R2_tst =  0.8902\n",
      "Лин регрессия на лучшем наборе RMSE_trn =  5.2863\n",
      "Лин регрессия на лучшем наборе RMSE_tst =  4.1524 \n",
      "\n",
      "Тривиальная модель R2_trn =  0.8769\n",
      "Тривиальная модель R2_tst =  0.8096\n",
      "Тривиальная модель RMSE_trn =  7.1156\n",
      "Тривиальная модель RMSE_tst =  5.4681 \n",
      "\n",
      "time: 46.8 ms (started: 2022-02-27 15:12:45 +03:00)\n"
     ]
    }
   ],
   "source": [
    "for col in df_trn.columns[1:]:\n",
    "    print(col, 'R2_trn = ', round(r2_score(df_trn['Прогнозируемое значение'], df_trn[col]), 4))\n",
    "    print(col, 'R2_tst = ', round(r2_score(df_tst['Прогнозируемое значение'], df_tst[col]), 4))\n",
    "    print(col, 'RMSE_trn = ', round(np.sqrt(mean_squared_error(df_trn['Прогнозируемое значение'], df_trn[col])), 4))\n",
    "    print(col, 'RMSE_tst = ', round(np.sqrt(mean_squared_error(df_tst['Прогнозируемое значение'], df_tst[col])), 4), '\\n')"
   ]
  },
  {
   "cell_type": "code",
   "execution_count": 55,
   "metadata": {},
   "outputs": [
    {
     "data": {
      "text/plain": [
       "'Dst_-0, B_gsm_z_-0, SW_spd_-0, B_gsm_z_-3, B_gsm_z_-1, Dst_-21, H_den_SWP_-0, H_den_SWP_-2, Dst_-7, B_magn_-4, B_gsm_z_-2, H_den_SWP_-1, Dst_-5, Dst_-3, SW_spd_-1, B_magn_-0, Dst_-10, B_gsm_y_-8, SW_spd_-2, Dst_-19, Dst_-20, Dst_-1, B_magn_-15, B_gsm_y_-6, Dst_-22, SW_spd_-4, B_magn_-11, B_magn_-3, SW_spd_-16, Dst_-23, B_gsm_y_-22, Dst_-11, B_magn_-12, Dst_-9, SW_spd_-21, B_gsm_z_-8, Dst_-17, B_magn_-6, B_gsm_y_-7, B_magn_-22, SW_spd_-7, B_gsm_y_-1, H_den_SWP_-3, B_gsm_y_-0, H_den_SWP_-6, B_gsm_z_-10, B_gsm_y_-23, Dst_-2, H_den_SWP_-16, Dst_-16, B_magn_-23, B_magn_-7, B_magn_-18, SW_spd_-3, H_den_SWP_-11, B_gsm_z_-7, H_den_SWP_-20, Dst_-15, B_gsm_z_-4, Dst_-13, B_magn_-5, Dst_-4, H_den_SWP_-7, B_gsm_z_-22, H_den_SWP_-19, Dst_-18, B_gsm_z_-21, B_gsm_z_-5, H_den_SWP_-4, SW_spd_-5, B_gsm_z_-16, B_gsm_y_-2, H_den_SWP_-5, SW_spd_-18, B_gsm_y_-5, H_den_SWP_-8, B_gsm_z_-19, SW_spd_-12, B_magn_-16, B_gsm_z_-11, H_den_SWP_-10, B_magn_-9, B_gsm_z_-18, B_gsm_y_-9, SW_spd_-23, SW_spd_-14, B_gsm_y_-3, B_gsm_y_-18, B_magn_-8, SW_spd_-15, B_gsm_z_-15, SW_spd_-20, SW_spd_-8, SW_spd_-9, H_den_SWP_-9, B_gsm_z_-14, B_gsm_z_-9, B_magn_-13, B_gsm_y_-14, B_gsm_z_-20, Dst_-8, B_gsm_y_-20, SW_spd_-19, SW_spd_-17, B_magn_-17, B_gsm_y_-16, H_den_SWP_-14, Dst_-14, H_den_SWP_-13, B_gsm_z_-13, B_gsm_y_-13, H_den_SWP_-12, B_gsm_z_-12, B_gsm_y_-12, Dst_-12, SW_spd_-10, SW_spd_-11, B_gsm_z_-6, H_den_SWP_-15, SW_spd_-13, B_gsm_z_-17, B_gsm_y_-11, Dst_-6, H_den_SWP_-17, B_magn_-20, B_gsm_y_-21, SW_spd_-22, B_gsm_y_-10, B_magn_-14, H_den_SWP_-18, B_gsm_y_-4, H_den_SWP_-21, B_magn_-21, B_gsm_y_-17, B_magn_-10, B_gsm_y_-19, H_den_SWP_-22, H_den_SWP_-23, B_magn_-19, SW_spd_-6, B_gsm_y_-15, B_gsm_z_-23, B_magn_-2, B_magn_-1'"
      ]
     },
     "execution_count": 55,
     "metadata": {},
     "output_type": "execute_result"
    },
    {
     "name": "stdout",
     "output_type": "stream",
     "text": [
      "time: 169 ms (started: 2022-02-07 11:58:10 +03:00)\n"
     ]
    }
   ],
   "source": [
    "', '.join(colonki_2.applymap(np.mean).isnull().sum(axis=1).sort_values().index.tolist())"
   ]
  },
  {
   "cell_type": "code",
   "execution_count": null,
   "metadata": {},
   "outputs": [],
   "source": []
  }
 ],
 "metadata": {
  "kernelspec": {
   "display_name": "Python 3 (ipykernel)",
   "language": "python",
   "name": "python3"
  },
  "language_info": {
   "codemirror_mode": {
    "name": "ipython",
    "version": 3
   },
   "file_extension": ".py",
   "mimetype": "text/x-python",
   "name": "python",
   "nbconvert_exporter": "python",
   "pygments_lexer": "ipython3",
   "version": "3.8.10"
  }
 },
 "nbformat": 4,
 "nbformat_minor": 2
}
